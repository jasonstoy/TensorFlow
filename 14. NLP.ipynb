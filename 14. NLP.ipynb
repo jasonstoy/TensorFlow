{
  "nbformat": 4,
  "nbformat_minor": 0,
  "metadata": {
    "colab": {
      "name": "14. NLP.ipynb",
      "provenance": [],
      "authorship_tag": "ABX9TyOIPe6P/twHpGwUVY6SSKf2",
      "include_colab_link": true
    },
    "kernelspec": {
      "name": "python3",
      "display_name": "Python 3"
    },
    "language_info": {
      "name": "python"
    },
    "accelerator": "GPU"
  },
  "cells": [
    {
      "cell_type": "markdown",
      "metadata": {
        "id": "view-in-github",
        "colab_type": "text"
      },
      "source": [
        "<a href=\"https://colab.research.google.com/github/jasonstoy/TensorFlow/blob/main/14.%20NLP.ipynb\" target=\"_parent\"><img src=\"https://colab.research.google.com/assets/colab-badge.svg\" alt=\"Open In Colab\"/></a>"
      ]
    },
    {
      "cell_type": "code",
      "metadata": {
        "colab": {
          "base_uri": "https://localhost:8080/"
        },
        "id": "Nt-iHjMmmznl",
        "outputId": "c86e0a89-c983-404f-e67f-9f9744029d31"
      },
      "source": [
        "! nvidia-smi -L"
      ],
      "execution_count": 1,
      "outputs": [
        {
          "output_type": "stream",
          "name": "stdout",
          "text": [
            "GPU 0: Tesla K80 (UUID: GPU-62f70688-ccb6-0484-1af3-0bb139d0efeb)\n"
          ]
        }
      ]
    },
    {
      "cell_type": "code",
      "metadata": {
        "colab": {
          "base_uri": "https://localhost:8080/"
        },
        "id": "wY_sZrP4pnRq",
        "outputId": "425c7091-7ae3-4212-f9b8-abb883aeb20d"
      },
      "source": [
        "! wget https://raw.githubusercontent.com/mrdbourke/tensorflow-deep-learning/main/extras/helper_functions.py"
      ],
      "execution_count": 2,
      "outputs": [
        {
          "output_type": "stream",
          "name": "stdout",
          "text": [
            "--2021-09-06 01:34:19--  https://raw.githubusercontent.com/mrdbourke/tensorflow-deep-learning/main/extras/helper_functions.py\n",
            "Resolving raw.githubusercontent.com (raw.githubusercontent.com)... 185.199.111.133, 185.199.109.133, 185.199.110.133, ...\n",
            "Connecting to raw.githubusercontent.com (raw.githubusercontent.com)|185.199.111.133|:443... connected.\n",
            "HTTP request sent, awaiting response... 200 OK\n",
            "Length: 10246 (10K) [text/plain]\n",
            "Saving to: ‘helper_functions.py’\n",
            "\n",
            "helper_functions.py 100%[===================>]  10.01K  --.-KB/s    in 0s      \n",
            "\n",
            "2021-09-06 01:34:20 (76.8 MB/s) - ‘helper_functions.py’ saved [10246/10246]\n",
            "\n"
          ]
        }
      ]
    },
    {
      "cell_type": "code",
      "metadata": {
        "id": "R38HK3rNpt98"
      },
      "source": [
        "from helper_functions import unzip_data, create_tensorboard_callback, plot_loss_curves, compare_historys"
      ],
      "execution_count": 3,
      "outputs": []
    },
    {
      "cell_type": "code",
      "metadata": {
        "colab": {
          "base_uri": "https://localhost:8080/"
        },
        "id": "UMqklTe3pxXD",
        "outputId": "c74d51c0-f5de-4f18-9d49-c7d065b19842"
      },
      "source": [
        "! wget https://storage.googleapis.com/ztm_tf_course/nlp_getting_started.zip"
      ],
      "execution_count": 4,
      "outputs": [
        {
          "output_type": "stream",
          "name": "stdout",
          "text": [
            "--2021-09-06 01:34:22--  https://storage.googleapis.com/ztm_tf_course/nlp_getting_started.zip\n",
            "Resolving storage.googleapis.com (storage.googleapis.com)... 108.177.125.128, 74.125.23.128, 74.125.203.128, ...\n",
            "Connecting to storage.googleapis.com (storage.googleapis.com)|108.177.125.128|:443... connected.\n",
            "HTTP request sent, awaiting response... 200 OK\n",
            "Length: 607343 (593K) [application/zip]\n",
            "Saving to: ‘nlp_getting_started.zip’\n",
            "\n",
            "nlp_getting_started 100%[===================>] 593.11K  --.-KB/s    in 0.009s  \n",
            "\n",
            "2021-09-06 01:34:22 (64.7 MB/s) - ‘nlp_getting_started.zip’ saved [607343/607343]\n",
            "\n"
          ]
        }
      ]
    },
    {
      "cell_type": "code",
      "metadata": {
        "id": "RuRQ4KFup-FK"
      },
      "source": [
        "unzip_data(\"nlp_getting_started.zip\")"
      ],
      "execution_count": 5,
      "outputs": []
    },
    {
      "cell_type": "code",
      "metadata": {
        "colab": {
          "base_uri": "https://localhost:8080/",
          "height": 204
        },
        "id": "wzCgmRHdp-Ct",
        "outputId": "d7332126-54dc-4732-8355-eacabd8f3436"
      },
      "source": [
        "import pandas as pd\n",
        "\n",
        "train_df = pd.read_csv(\"train.csv\")\n",
        "test_df = pd.read_csv(\"test.csv\")\n",
        "train_df.head()"
      ],
      "execution_count": 6,
      "outputs": [
        {
          "output_type": "execute_result",
          "data": {
            "text/html": [
              "<div>\n",
              "<style scoped>\n",
              "    .dataframe tbody tr th:only-of-type {\n",
              "        vertical-align: middle;\n",
              "    }\n",
              "\n",
              "    .dataframe tbody tr th {\n",
              "        vertical-align: top;\n",
              "    }\n",
              "\n",
              "    .dataframe thead th {\n",
              "        text-align: right;\n",
              "    }\n",
              "</style>\n",
              "<table border=\"1\" class=\"dataframe\">\n",
              "  <thead>\n",
              "    <tr style=\"text-align: right;\">\n",
              "      <th></th>\n",
              "      <th>id</th>\n",
              "      <th>keyword</th>\n",
              "      <th>location</th>\n",
              "      <th>text</th>\n",
              "      <th>target</th>\n",
              "    </tr>\n",
              "  </thead>\n",
              "  <tbody>\n",
              "    <tr>\n",
              "      <th>0</th>\n",
              "      <td>1</td>\n",
              "      <td>NaN</td>\n",
              "      <td>NaN</td>\n",
              "      <td>Our Deeds are the Reason of this #earthquake M...</td>\n",
              "      <td>1</td>\n",
              "    </tr>\n",
              "    <tr>\n",
              "      <th>1</th>\n",
              "      <td>4</td>\n",
              "      <td>NaN</td>\n",
              "      <td>NaN</td>\n",
              "      <td>Forest fire near La Ronge Sask. Canada</td>\n",
              "      <td>1</td>\n",
              "    </tr>\n",
              "    <tr>\n",
              "      <th>2</th>\n",
              "      <td>5</td>\n",
              "      <td>NaN</td>\n",
              "      <td>NaN</td>\n",
              "      <td>All residents asked to 'shelter in place' are ...</td>\n",
              "      <td>1</td>\n",
              "    </tr>\n",
              "    <tr>\n",
              "      <th>3</th>\n",
              "      <td>6</td>\n",
              "      <td>NaN</td>\n",
              "      <td>NaN</td>\n",
              "      <td>13,000 people receive #wildfires evacuation or...</td>\n",
              "      <td>1</td>\n",
              "    </tr>\n",
              "    <tr>\n",
              "      <th>4</th>\n",
              "      <td>7</td>\n",
              "      <td>NaN</td>\n",
              "      <td>NaN</td>\n",
              "      <td>Just got sent this photo from Ruby #Alaska as ...</td>\n",
              "      <td>1</td>\n",
              "    </tr>\n",
              "  </tbody>\n",
              "</table>\n",
              "</div>"
            ],
            "text/plain": [
              "   id keyword  ...                                               text target\n",
              "0   1     NaN  ...  Our Deeds are the Reason of this #earthquake M...      1\n",
              "1   4     NaN  ...             Forest fire near La Ronge Sask. Canada      1\n",
              "2   5     NaN  ...  All residents asked to 'shelter in place' are ...      1\n",
              "3   6     NaN  ...  13,000 people receive #wildfires evacuation or...      1\n",
              "4   7     NaN  ...  Just got sent this photo from Ruby #Alaska as ...      1\n",
              "\n",
              "[5 rows x 5 columns]"
            ]
          },
          "metadata": {},
          "execution_count": 6
        }
      ]
    },
    {
      "cell_type": "code",
      "metadata": {
        "colab": {
          "base_uri": "https://localhost:8080/",
          "height": 204
        },
        "id": "zkwckLGgrSzJ",
        "outputId": "645b5d1d-244e-47f9-e5c8-c904f95fcfec"
      },
      "source": [
        "train_data_shuffled = train_df.sample(frac=1, random_state=5)\n",
        "train_data_shuffled.head()"
      ],
      "execution_count": 7,
      "outputs": [
        {
          "output_type": "execute_result",
          "data": {
            "text/html": [
              "<div>\n",
              "<style scoped>\n",
              "    .dataframe tbody tr th:only-of-type {\n",
              "        vertical-align: middle;\n",
              "    }\n",
              "\n",
              "    .dataframe tbody tr th {\n",
              "        vertical-align: top;\n",
              "    }\n",
              "\n",
              "    .dataframe thead th {\n",
              "        text-align: right;\n",
              "    }\n",
              "</style>\n",
              "<table border=\"1\" class=\"dataframe\">\n",
              "  <thead>\n",
              "    <tr style=\"text-align: right;\">\n",
              "      <th></th>\n",
              "      <th>id</th>\n",
              "      <th>keyword</th>\n",
              "      <th>location</th>\n",
              "      <th>text</th>\n",
              "      <th>target</th>\n",
              "    </tr>\n",
              "  </thead>\n",
              "  <tbody>\n",
              "    <tr>\n",
              "      <th>6571</th>\n",
              "      <td>9404</td>\n",
              "      <td>survivors</td>\n",
              "      <td>Chicago, IL</td>\n",
              "      <td>RT @kotowsa: South SudanÛªs war on women: sur...</td>\n",
              "      <td>1</td>\n",
              "    </tr>\n",
              "    <tr>\n",
              "      <th>4830</th>\n",
              "      <td>6877</td>\n",
              "      <td>mass%20murder</td>\n",
              "      <td>Everywhere</td>\n",
              "      <td>This Attempted Mass Murder brought to You by t...</td>\n",
              "      <td>0</td>\n",
              "    </tr>\n",
              "    <tr>\n",
              "      <th>2019</th>\n",
              "      <td>2898</td>\n",
              "      <td>damage</td>\n",
              "      <td>Your Conversation</td>\n",
              "      <td>This real shit will damage a bitch</td>\n",
              "      <td>0</td>\n",
              "    </tr>\n",
              "    <tr>\n",
              "      <th>7427</th>\n",
              "      <td>10625</td>\n",
              "      <td>wounded</td>\n",
              "      <td>NaN</td>\n",
              "      <td>Officer wounded suspect killed in exchange of ...</td>\n",
              "      <td>1</td>\n",
              "    </tr>\n",
              "    <tr>\n",
              "      <th>4983</th>\n",
              "      <td>7109</td>\n",
              "      <td>military</td>\n",
              "      <td>NaN</td>\n",
              "      <td>Hat #russian soviet army kgb  military #cossac...</td>\n",
              "      <td>0</td>\n",
              "    </tr>\n",
              "  </tbody>\n",
              "</table>\n",
              "</div>"
            ],
            "text/plain": [
              "         id  ... target\n",
              "6571   9404  ...      1\n",
              "4830   6877  ...      0\n",
              "2019   2898  ...      0\n",
              "7427  10625  ...      1\n",
              "4983   7109  ...      0\n",
              "\n",
              "[5 rows x 5 columns]"
            ]
          },
          "metadata": {},
          "execution_count": 7
        }
      ]
    },
    {
      "cell_type": "code",
      "metadata": {
        "colab": {
          "base_uri": "https://localhost:8080/"
        },
        "id": "N6Afd0Ghronp",
        "outputId": "d8a439f1-fe6c-4a2b-b76c-56b3b1b4a622"
      },
      "source": [
        "train_df.target.value_counts()"
      ],
      "execution_count": 8,
      "outputs": [
        {
          "output_type": "execute_result",
          "data": {
            "text/plain": [
              "0    4342\n",
              "1    3271\n",
              "Name: target, dtype: int64"
            ]
          },
          "metadata": {},
          "execution_count": 8
        }
      ]
    },
    {
      "cell_type": "code",
      "metadata": {
        "colab": {
          "base_uri": "https://localhost:8080/"
        },
        "id": "_ukoDIn0rx-m",
        "outputId": "317fccd2-392e-4bf2-a050-0b07bdaae8d4"
      },
      "source": [
        "import random\n",
        "\n",
        "random_index = random.randint(0,len(train_df)-5)\n",
        "for row in train_data_shuffled[[\"text\",\"target\"]][random_index:random_index+5].itertuples():\n",
        "  _, text, target = row\n",
        "  print(f\"Target: {target}\", \"(real disaster)\" if target > 0 else \"(not real disaster)\")\n",
        "  print(f\"Text:\\n{text}\\n\")\n",
        "  print(\"---\")"
      ],
      "execution_count": 9,
      "outputs": [
        {
          "output_type": "stream",
          "name": "stdout",
          "text": [
            "Target: 0 (not real disaster)\n",
            "Text:\n",
            "Want to work at Swedish Health Services? We're #hiring in #Seattle WA! Click for details: http://t.co/4KDThCtEmV #Nursing #Job #Jobs\n",
            "\n",
            "---\n",
            "Target: 1 (real disaster)\n",
            "Text:\n",
            "@pmarca content is held hostage by network due to affiliation fees.\n",
            "\n",
            "---\n",
            "Target: 0 (not real disaster)\n",
            "Text:\n",
            "@LA_Siren Thanks for joining the foot. @VVorm\n",
            "\n",
            "---\n",
            "Target: 1 (real disaster)\n",
            "Text:\n",
            "Madhya Pradesh Train Derailment: Village Youth Saved Many Lives\n",
            "\n",
            "---\n",
            "Target: 0 (not real disaster)\n",
            "Text:\n",
            "@RohnertParkDPS You're on stage now! Right under the lights! Isn't it funny?! Where do you get the goofballs with which you staff your PD?\n",
            "\n",
            "---\n"
          ]
        }
      ]
    },
    {
      "cell_type": "code",
      "metadata": {
        "id": "JIKZ3iwlsGKO"
      },
      "source": [
        "from sklearn.model_selection import train_test_split\n",
        "\n",
        "train_sentences, val_sentences, train_labels, val_labels = train_test_split(train_data_shuffled[\"text\"].to_numpy(),\n",
        "                                                                            train_data_shuffled[\"target\"].to_numpy(),\n",
        "                                                                            test_size=0.1, \n",
        "                                                                            random_state=5)"
      ],
      "execution_count": 10,
      "outputs": []
    },
    {
      "cell_type": "code",
      "metadata": {
        "colab": {
          "base_uri": "https://localhost:8080/"
        },
        "id": "hdr-UzBpukDf",
        "outputId": "81c2b527-e61e-4717-ffa1-aaacdc62dda6"
      },
      "source": [
        "len(train_sentences), len(val_sentences), len(train_labels), len(val_labels)"
      ],
      "execution_count": 11,
      "outputs": [
        {
          "output_type": "execute_result",
          "data": {
            "text/plain": [
              "(6851, 762, 6851, 762)"
            ]
          },
          "metadata": {},
          "execution_count": 11
        }
      ]
    },
    {
      "cell_type": "code",
      "metadata": {
        "id": "ZI7pRxiuvWMZ"
      },
      "source": [
        "import tensorflow as tf\n",
        "from tensorflow.keras.layers.experimental.preprocessing import TextVectorization"
      ],
      "execution_count": 12,
      "outputs": []
    },
    {
      "cell_type": "code",
      "metadata": {
        "id": "L1fvjsOG0E5N"
      },
      "source": [
        "text_vectorizer = TextVectorization(max_tokens=None,\n",
        "                                    standardize=\"lower_and_strip_punctuation\",\n",
        "                                    split=\"whitespace\",\n",
        "                                    ngrams=None,\n",
        "                                    output_mode=\"int\",\n",
        "                                    output_sequence_length=None)\n",
        "                                    # pad_to_max_tokens=True)"
      ],
      "execution_count": 13,
      "outputs": []
    },
    {
      "cell_type": "code",
      "metadata": {
        "colab": {
          "base_uri": "https://localhost:8080/"
        },
        "id": "hwCwj5Uz10d3",
        "outputId": "86941979-1427-40d2-838b-3b8ec3ae018a"
      },
      "source": [
        "round(sum([len(i.split()) for i in train_sentences])/len(train_sentences))"
      ],
      "execution_count": 14,
      "outputs": [
        {
          "output_type": "execute_result",
          "data": {
            "text/plain": [
              "15"
            ]
          },
          "metadata": {},
          "execution_count": 14
        }
      ]
    },
    {
      "cell_type": "code",
      "metadata": {
        "id": "4UQTO9cBO0eU"
      },
      "source": [
        "#set up vectorization variables\n",
        "max_vocab_length = 1000\n",
        "max_length = 15\n",
        "\n",
        "text_vectorizer = TextVectorization(max_tokens=max_vocab_length,\n",
        "                                    output_mode=\"int\",\n",
        "                                    output_sequence_length=15)"
      ],
      "execution_count": 15,
      "outputs": []
    },
    {
      "cell_type": "code",
      "metadata": {
        "id": "OEs9KU_iR9Vz"
      },
      "source": [
        "#fit the vectorizer\n",
        "text_vectorizer.adapt(train_sentences)"
      ],
      "execution_count": 16,
      "outputs": []
    },
    {
      "cell_type": "code",
      "metadata": {
        "colab": {
          "base_uri": "https://localhost:8080/"
        },
        "id": "FFaF3bjNSe2W",
        "outputId": "96652e31-eb66-4a65-8a22-d9b84fde5c04"
      },
      "source": [
        "sample_sentence = \"my test sentence\"\n",
        "text_vectorizer([sample_sentence])"
      ],
      "execution_count": 17,
      "outputs": [
        {
          "output_type": "execute_result",
          "data": {
            "text/plain": [
              "<tf.Tensor: shape=(1, 15), dtype=int64, numpy=array([[13,  1,  1,  0,  0,  0,  0,  0,  0,  0,  0,  0,  0,  0,  0]])>"
            ]
          },
          "metadata": {},
          "execution_count": 17
        }
      ]
    },
    {
      "cell_type": "code",
      "metadata": {
        "colab": {
          "base_uri": "https://localhost:8080/"
        },
        "id": "ZSRTCpdBSpCo",
        "outputId": "67d1413b-ad38-45f3-aef6-c83608dbf7ca"
      },
      "source": [
        "random_sentence = random.choice(train_sentences)\n",
        "print(f\"Original text:\\n {random_sentence}\\\n",
        "        \\n\\nVectorized version:\")\n",
        "\n",
        "text_vectorizer([random_sentence])"
      ],
      "execution_count": 18,
      "outputs": [
        {
          "output_type": "stream",
          "name": "stdout",
          "text": [
            "Original text:\n",
            " being stuck on a sleeper train for 24 hours after de-railing due to a landslide was most definitely the pit of the trip        \n",
            "\n",
            "Vectorized version:\n"
          ]
        },
        {
          "output_type": "execute_result",
          "data": {
            "text/plain": [
              "<tf.Tensor: shape=(1, 15), dtype=int64, numpy=\n",
              "array([[126,   1,  11,   3,   1, 121,  10,   1, 661,  41,   1, 500,   5,\n",
              "          3, 332]])>"
            ]
          },
          "metadata": {},
          "execution_count": 18
        }
      ]
    },
    {
      "cell_type": "code",
      "metadata": {
        "colab": {
          "base_uri": "https://localhost:8080/"
        },
        "id": "Tx4a5FCoTLyz",
        "outputId": "96ae50f7-23c5-4e17-cef7-ec5608efd1ec"
      },
      "source": [
        "words_in_vocab = text_vectorizer.get_vocabulary()\n",
        "top_5_words = words_in_vocab[:5]\n",
        "top_5_words"
      ],
      "execution_count": 19,
      "outputs": [
        {
          "output_type": "execute_result",
          "data": {
            "text/plain": [
              "['', '[UNK]', 'the', 'a', 'in']"
            ]
          },
          "metadata": {},
          "execution_count": 19
        }
      ]
    },
    {
      "cell_type": "code",
      "metadata": {
        "id": "Vci7EgYFXMFA"
      },
      "source": [
        "# embedding layer\n",
        "from tensorflow.keras import layers\n",
        "\n",
        "embedding = layers.Embedding(input_dim=max_vocab_length,\n",
        "                             output_dim=128,\n",
        "                             input_length=max_length)"
      ],
      "execution_count": 20,
      "outputs": []
    },
    {
      "cell_type": "code",
      "metadata": {
        "colab": {
          "base_uri": "https://localhost:8080/"
        },
        "id": "y8qkbHSNfm6e",
        "outputId": "23ca0215-8712-44a8-bd4c-61e73d2ef181"
      },
      "source": [
        "random_sentence = random.choice(train_sentences)\n",
        "print(f\"Original text:\\n {random_sentence}\\\n",
        "        \\n\\nVectorized version:\")\n",
        "\n",
        "embedding(text_vectorizer([random_sentence]))"
      ],
      "execution_count": 21,
      "outputs": [
        {
          "output_type": "stream",
          "name": "stdout",
          "text": [
            "Original text:\n",
            " Breast milk is the original #superfood but rates worldwide have stalled below 40% contributing to more than 800000 child deaths last year.        \n",
            "\n",
            "Vectorized version:\n"
          ]
        },
        {
          "output_type": "execute_result",
          "data": {
            "text/plain": [
              "<tf.Tensor: shape=(1, 15, 128), dtype=float32, numpy=\n",
              "array([[[-0.0294896 , -0.02840542,  0.03157382, ...,  0.0075008 ,\n",
              "         -0.00054563,  0.04900971],\n",
              "        [-0.0294896 , -0.02840542,  0.03157382, ...,  0.0075008 ,\n",
              "         -0.00054563,  0.04900971],\n",
              "        [-0.01500814,  0.0027407 , -0.0401902 , ...,  0.0263404 ,\n",
              "         -0.00567375, -0.00537703],\n",
              "        ...,\n",
              "        [ 0.03767825, -0.02605258,  0.0148719 , ...,  0.02769933,\n",
              "         -0.01902651,  0.01417993],\n",
              "        [-0.0294896 , -0.02840542,  0.03157382, ...,  0.0075008 ,\n",
              "         -0.00054563,  0.04900971],\n",
              "        [ 0.04000239, -0.03134932, -0.04276383, ..., -0.0154259 ,\n",
              "          0.01827451, -0.04288304]]], dtype=float32)>"
            ]
          },
          "metadata": {},
          "execution_count": 21
        }
      ]
    },
    {
      "cell_type": "code",
      "metadata": {
        "id": "8BEnI-ZWgCss"
      },
      "source": [
        "# baseline model\n",
        "from sklearn.feature_extraction.text import TfidfVectorizer\n",
        "from sklearn.naive_bayes import MultinomialNB\n",
        "from sklearn.pipeline import Pipeline\n"
      ],
      "execution_count": 22,
      "outputs": []
    },
    {
      "cell_type": "code",
      "metadata": {
        "colab": {
          "base_uri": "https://localhost:8080/"
        },
        "id": "sgdVBzsm4V7g",
        "outputId": "c2f937e2-f0c3-4bfd-942c-bfd8f5918411"
      },
      "source": [
        "model_0 = Pipeline([\n",
        "                    (\"tfidf\", TfidfVectorizer()),\n",
        "                    (\"clf\",MultinomialNB())\n",
        "])\n",
        "\n",
        "model_0.fit(train_sentences, train_labels)"
      ],
      "execution_count": 23,
      "outputs": [
        {
          "output_type": "execute_result",
          "data": {
            "text/plain": [
              "Pipeline(memory=None,\n",
              "         steps=[('tfidf',\n",
              "                 TfidfVectorizer(analyzer='word', binary=False,\n",
              "                                 decode_error='strict',\n",
              "                                 dtype=<class 'numpy.float64'>,\n",
              "                                 encoding='utf-8', input='content',\n",
              "                                 lowercase=True, max_df=1.0, max_features=None,\n",
              "                                 min_df=1, ngram_range=(1, 1), norm='l2',\n",
              "                                 preprocessor=None, smooth_idf=True,\n",
              "                                 stop_words=None, strip_accents=None,\n",
              "                                 sublinear_tf=False,\n",
              "                                 token_pattern='(?u)\\\\b\\\\w\\\\w+\\\\b',\n",
              "                                 tokenizer=None, use_idf=True,\n",
              "                                 vocabulary=None)),\n",
              "                ('clf',\n",
              "                 MultinomialNB(alpha=1.0, class_prior=None, fit_prior=True))],\n",
              "         verbose=False)"
            ]
          },
          "metadata": {},
          "execution_count": 23
        }
      ]
    },
    {
      "cell_type": "code",
      "metadata": {
        "id": "ZEgopW4o4V46"
      },
      "source": [
        "baseline_score = model_0.score(val_sentences, val_labels)"
      ],
      "execution_count": 24,
      "outputs": []
    },
    {
      "cell_type": "code",
      "metadata": {
        "colab": {
          "base_uri": "https://localhost:8080/"
        },
        "id": "M1YqknJx46IL",
        "outputId": "cad7dae1-ddd0-4e62-af35-268371439a8a"
      },
      "source": [
        "baseline_score"
      ],
      "execution_count": 25,
      "outputs": [
        {
          "output_type": "execute_result",
          "data": {
            "text/plain": [
              "0.7834645669291339"
            ]
          },
          "metadata": {},
          "execution_count": 25
        }
      ]
    },
    {
      "cell_type": "code",
      "metadata": {
        "colab": {
          "base_uri": "https://localhost:8080/"
        },
        "id": "P90xJhEc46Fq",
        "outputId": "0a700184-069f-4b14-d30a-63aaed55748f"
      },
      "source": [
        "#make predictions\n",
        "baseline_preds = model_0.predict(val_sentences)\n",
        "baseline_preds[:20]"
      ],
      "execution_count": 26,
      "outputs": [
        {
          "output_type": "execute_result",
          "data": {
            "text/plain": [
              "array([1, 0, 1, 0, 0, 0, 1, 1, 0, 0, 0, 1, 0, 0, 0, 0, 1, 1, 0, 1])"
            ]
          },
          "metadata": {},
          "execution_count": 26
        }
      ]
    },
    {
      "cell_type": "code",
      "metadata": {
        "colab": {
          "base_uri": "https://localhost:8080/"
        },
        "id": "z63iKXLx5Oam",
        "outputId": "5975c069-83bf-4615-b5c6-ec3d4638b044"
      },
      "source": [
        "train_labels[:20]"
      ],
      "execution_count": 27,
      "outputs": [
        {
          "output_type": "execute_result",
          "data": {
            "text/plain": [
              "array([1, 1, 1, 0, 1, 1, 0, 1, 0, 1, 1, 0, 0, 0, 0, 0, 0, 1, 1, 0])"
            ]
          },
          "metadata": {},
          "execution_count": 27
        }
      ]
    },
    {
      "cell_type": "code",
      "metadata": {
        "id": "kKY4wsYM5RcK"
      },
      "source": [
        "from sklearn.metrics import accuracy_score, precision_recall_fscore_support\n",
        "\n",
        "def calc_result(y_true, y_pred):\n",
        "  #accuracy\n",
        "  model_accuracy = accuracy_score(y_true, y_pred) * 100\n",
        "\n",
        "  #precision, recall, f1\n",
        "  model_precision, model_recall, mode_f1, _ = precision_recall_fscore_support(y_true, y_pred, average=\"weighted\")\n",
        "\n",
        "  model_results = {\n",
        "      \"accuracy\":model_accuracy,\n",
        "      \"precision\":model_precision,\n",
        "      \"recall\":model_recall,\n",
        "      \"f1\":mode_f1\n",
        "  }\n",
        "\n",
        "  return model_results"
      ],
      "execution_count": 32,
      "outputs": []
    },
    {
      "cell_type": "code",
      "metadata": {
        "colab": {
          "base_uri": "https://localhost:8080/"
        },
        "id": "a2oJ_mOewz4q",
        "outputId": "b6b8493c-afc8-4351-a188-9c4afad03b8f"
      },
      "source": [
        "baseline_results = calc_result(y_true=val_labels,\n",
        "                               y_pred=baseline_preds)\n",
        "\n",
        "baseline_results"
      ],
      "execution_count": 33,
      "outputs": [
        {
          "output_type": "execute_result",
          "data": {
            "text/plain": [
              "{'accuracy': 78.34645669291339,\n",
              " 'f1': 0.7766167079582341,\n",
              " 'precision': 0.7913267759468998,\n",
              " 'recall': 0.7834645669291339}"
            ]
          },
          "metadata": {},
          "execution_count": 33
        }
      ]
    },
    {
      "cell_type": "code",
      "metadata": {
        "id": "zJmyw8bCxTAz"
      },
      "source": [
        "# model 1 (simple dense model)\n",
        "from helper_functions import create_tensorboard_callback\n",
        "\n",
        "SAVE_DIR = \"model_logs\""
      ],
      "execution_count": 37,
      "outputs": []
    },
    {
      "cell_type": "code",
      "metadata": {
        "id": "IXUWlIaoyE7D"
      },
      "source": [
        "from tensorflow.keras import layers\n",
        "\n",
        "inputs = layers.Input(shape=(1,), dtype=tf.string)\n",
        "x = text_vectorizer(inputs)\n",
        "x = embedding(x)\n",
        "x = layers.GlobalAveragePooling1D()(x)\n",
        "outputs = layers.Dense(1, activation=\"sigmoid\")(x)\n",
        "model_1 = tf.keras.Model(inputs, outputs, name=\"model_1_dense\")"
      ],
      "execution_count": 43,
      "outputs": []
    },
    {
      "cell_type": "code",
      "metadata": {
        "colab": {
          "base_uri": "https://localhost:8080/"
        },
        "id": "G6XsZzFIzEX2",
        "outputId": "77b89d06-837a-493a-cb72-f20e054a1162"
      },
      "source": [
        "model_1.summary()"
      ],
      "execution_count": 44,
      "outputs": [
        {
          "output_type": "stream",
          "name": "stdout",
          "text": [
            "Model: \"model_1_dense\"\n",
            "_________________________________________________________________\n",
            "Layer (type)                 Output Shape              Param #   \n",
            "=================================================================\n",
            "input_3 (InputLayer)         [(None, 1)]               0         \n",
            "_________________________________________________________________\n",
            "text_vectorization_1 (TextVe (None, 15)                0         \n",
            "_________________________________________________________________\n",
            "embedding (Embedding)        (None, 15, 128)           128000    \n",
            "_________________________________________________________________\n",
            "global_average_pooling1d (Gl (None, 128)               0         \n",
            "_________________________________________________________________\n",
            "dense_2 (Dense)              (None, 1)                 129       \n",
            "=================================================================\n",
            "Total params: 128,129\n",
            "Trainable params: 128,129\n",
            "Non-trainable params: 0\n",
            "_________________________________________________________________\n"
          ]
        }
      ]
    },
    {
      "cell_type": "code",
      "metadata": {
        "colab": {
          "base_uri": "https://localhost:8080/"
        },
        "id": "fQq9m0XxzHIK",
        "outputId": "e239bd9e-bbe1-4a17-8c16-d43e0ce2f79f"
      },
      "source": [
        "model_1.compile(loss=tf.keras.losses.binary_crossentropy,\n",
        "                optimizer=tf.keras.optimizers.Adam(),\n",
        "                metrics=[\"accuracy\"])\n",
        "\n",
        "history_1 = model_1.fit(x=train_sentences,\n",
        "                        y=train_labels,\n",
        "                        epochs=5,\n",
        "                        validation_data=(val_sentences, val_labels),\n",
        "                        callbacks=[create_tensorboard_callback(dir_name=SAVE_DIR,\n",
        "                                                               experiment_name=\"model_1_dense\")])"
      ],
      "execution_count": 45,
      "outputs": [
        {
          "output_type": "stream",
          "name": "stdout",
          "text": [
            "Saving TensorBoard log files to: model_logs/model_1_dense/20210906-020425\n",
            "Epoch 1/5\n",
            "215/215 [==============================] - 2s 8ms/step - loss: 0.5911 - accuracy: 0.7135 - val_loss: 0.5309 - val_accuracy: 0.7822\n",
            "Epoch 2/5\n",
            "215/215 [==============================] - 1s 6ms/step - loss: 0.4828 - accuracy: 0.7881 - val_loss: 0.4748 - val_accuracy: 0.7913\n",
            "Epoch 3/5\n",
            "215/215 [==============================] - 1s 6ms/step - loss: 0.4373 - accuracy: 0.8070 - val_loss: 0.4585 - val_accuracy: 0.7900\n",
            "Epoch 4/5\n",
            "215/215 [==============================] - 1s 6ms/step - loss: 0.4128 - accuracy: 0.8209 - val_loss: 0.4527 - val_accuracy: 0.7940\n",
            "Epoch 5/5\n",
            "215/215 [==============================] - 1s 6ms/step - loss: 0.3972 - accuracy: 0.8219 - val_loss: 0.4575 - val_accuracy: 0.7822\n"
          ]
        }
      ]
    },
    {
      "cell_type": "code",
      "metadata": {
        "id": "cQyYew0i041u"
      },
      "source": [
        "model_1_pred_probs = model_1.predict(val_sentences)"
      ],
      "execution_count": 46,
      "outputs": []
    },
    {
      "cell_type": "code",
      "metadata": {
        "colab": {
          "base_uri": "https://localhost:8080/"
        },
        "id": "lKjj6GOd2MCM",
        "outputId": "bf069bc9-2501-4c6a-8737-50f4316e9163"
      },
      "source": [
        "model_1_pred_probs.shape"
      ],
      "execution_count": 47,
      "outputs": [
        {
          "output_type": "execute_result",
          "data": {
            "text/plain": [
              "(762, 1)"
            ]
          },
          "metadata": {},
          "execution_count": 47
        }
      ]
    },
    {
      "cell_type": "code",
      "metadata": {
        "id": "7R2Tvme03XkP"
      },
      "source": [
        "model_1_pred = tf.squeeze(tf.round(model_1_pred_probs))"
      ],
      "execution_count": 51,
      "outputs": []
    },
    {
      "cell_type": "code",
      "metadata": {
        "colab": {
          "base_uri": "https://localhost:8080/"
        },
        "id": "tMDfLBZu2NXp",
        "outputId": "c6cfdd8d-3ec0-4498-a42a-a5e9e7e25943"
      },
      "source": [
        "model_1_result = calc_result(val_labels, model_1_pred)\n",
        "model_1_result"
      ],
      "execution_count": 52,
      "outputs": [
        {
          "output_type": "execute_result",
          "data": {
            "text/plain": [
              "{'accuracy': 78.21522309711287,\n",
              " 'f1': 0.7779670274647487,\n",
              " 'precision': 0.7841153800470415,\n",
              " 'recall': 0.7821522309711286}"
            ]
          },
          "metadata": {},
          "execution_count": 52
        }
      ]
    },
    {
      "cell_type": "code",
      "metadata": {
        "colab": {
          "base_uri": "https://localhost:8080/"
        },
        "id": "ifAHmOgE24QF",
        "outputId": "acf7dabe-84f4-4941-a71d-ba426efe852b"
      },
      "source": [
        "baseline_results"
      ],
      "execution_count": 54,
      "outputs": [
        {
          "output_type": "execute_result",
          "data": {
            "text/plain": [
              "{'accuracy': 78.34645669291339,\n",
              " 'f1': 0.7766167079582341,\n",
              " 'precision': 0.7913267759468998,\n",
              " 'recall': 0.7834645669291339}"
            ]
          },
          "metadata": {},
          "execution_count": 54
        }
      ]
    },
    {
      "cell_type": "code",
      "metadata": {
        "colab": {
          "base_uri": "https://localhost:8080/"
        },
        "id": "-mxCCc3Q3haW",
        "outputId": "3ca769d7-610f-4c16-f1a6-b162487c6eff"
      },
      "source": [
        "import numpy as np\n",
        "\n",
        "np.array(list(model_1_result.values())) > np.array(list(baseline_results.values()))"
      ],
      "execution_count": 56,
      "outputs": [
        {
          "output_type": "execute_result",
          "data": {
            "text/plain": [
              "array([False, False, False,  True])"
            ]
          },
          "metadata": {},
          "execution_count": 56
        }
      ]
    },
    {
      "cell_type": "code",
      "metadata": {
        "colab": {
          "base_uri": "https://localhost:8080/"
        },
        "id": "UKb8xQvT3yXp",
        "outputId": "201f7ae9-6bac-462a-b99e-f714fd74fcee"
      },
      "source": [
        "# visualizing embeddings\n",
        "words_in_vocab = text_vectorizer.get_vocabulary()\n",
        "len(words_in_vocab), words_in_vocab[:10]"
      ],
      "execution_count": 57,
      "outputs": [
        {
          "output_type": "execute_result",
          "data": {
            "text/plain": [
              "(1000, ['', '[UNK]', 'the', 'a', 'in', 'to', 'of', 'and', 'i', 'is'])"
            ]
          },
          "metadata": {},
          "execution_count": 57
        }
      ]
    },
    {
      "cell_type": "code",
      "metadata": {
        "colab": {
          "base_uri": "https://localhost:8080/"
        },
        "id": "tw-WqN7f5AkZ",
        "outputId": "aab8123c-dbc7-4d2e-c89a-72da590fdb2b"
      },
      "source": [
        "embed_weight = model_1.get_layer(\"embedding\").get_weights()[0]\n",
        "embed_weight.shape"
      ],
      "execution_count": 62,
      "outputs": [
        {
          "output_type": "execute_result",
          "data": {
            "text/plain": [
              "(1000, 128)"
            ]
          },
          "metadata": {},
          "execution_count": 62
        }
      ]
    },
    {
      "cell_type": "code",
      "metadata": {
        "colab": {
          "base_uri": "https://localhost:8080/",
          "height": 17
        },
        "id": "yLq6A3m55N-P",
        "outputId": "480cff96-18e6-4027-ca97-6718909631c7"
      },
      "source": [
        "# import io\n",
        "\n",
        "# # Create output writers\n",
        "# out_v = io.open(\"embedding_vectors.tsv\", \"w\", encoding=\"utf-8\")\n",
        "# out_m = io.open(\"embedding_metadata.tsv\", \"w\", encoding=\"utf-8\")\n",
        "\n",
        "# # Write embedding vectors and words to file\n",
        "# for num, word in enumerate(words_in_vocab):\n",
        "#   if num == 0: \n",
        "#      continue # skip padding token\n",
        "#   vec = embed_weight[num]\n",
        "#   out_m.write(word + \"\\n\") # write words to file\n",
        "#   out_v.write(\"\\t\".join([str(x) for x in vec]) + \"\\n\") # write corresponding word vector to file\n",
        "# out_v.close()\n",
        "# out_m.close()\n",
        "\n",
        "# # Download files locally to upload to Embedding Projector\n",
        "# try:\n",
        "#   from google.colab import files\n",
        "# except ImportError:\n",
        "#   pass\n",
        "# else:\n",
        "#   files.download(\"embedding_vectors.tsv\")\n",
        "#   files.download(\"embedding_metadata.tsv\")\n",
        "\n",
        "# http://projector.tensorflow.org/"
      ],
      "execution_count": 64,
      "outputs": [
        {
          "output_type": "display_data",
          "data": {
            "application/javascript": [
              "\n",
              "    async function download(id, filename, size) {\n",
              "      if (!google.colab.kernel.accessAllowed) {\n",
              "        return;\n",
              "      }\n",
              "      const div = document.createElement('div');\n",
              "      const label = document.createElement('label');\n",
              "      label.textContent = `Downloading \"${filename}\": `;\n",
              "      div.appendChild(label);\n",
              "      const progress = document.createElement('progress');\n",
              "      progress.max = size;\n",
              "      div.appendChild(progress);\n",
              "      document.body.appendChild(div);\n",
              "\n",
              "      const buffers = [];\n",
              "      let downloaded = 0;\n",
              "\n",
              "      const channel = await google.colab.kernel.comms.open(id);\n",
              "      // Send a message to notify the kernel that we're ready.\n",
              "      channel.send({})\n",
              "\n",
              "      for await (const message of channel.messages) {\n",
              "        // Send a message to notify the kernel that we're ready.\n",
              "        channel.send({})\n",
              "        if (message.buffers) {\n",
              "          for (const buffer of message.buffers) {\n",
              "            buffers.push(buffer);\n",
              "            downloaded += buffer.byteLength;\n",
              "            progress.value = downloaded;\n",
              "          }\n",
              "        }\n",
              "      }\n",
              "      const blob = new Blob(buffers, {type: 'application/binary'});\n",
              "      const a = document.createElement('a');\n",
              "      a.href = window.URL.createObjectURL(blob);\n",
              "      a.download = filename;\n",
              "      div.appendChild(a);\n",
              "      a.click();\n",
              "      div.remove();\n",
              "    }\n",
              "  "
            ],
            "text/plain": [
              "<IPython.core.display.Javascript object>"
            ]
          },
          "metadata": {}
        },
        {
          "output_type": "display_data",
          "data": {
            "application/javascript": [
              "download(\"download_dbdbed19-d75f-41ec-9155-dc75f348b149\", \"embedding_vectors.tsv\", 1509919)"
            ],
            "text/plain": [
              "<IPython.core.display.Javascript object>"
            ]
          },
          "metadata": {}
        },
        {
          "output_type": "display_data",
          "data": {
            "application/javascript": [
              "\n",
              "    async function download(id, filename, size) {\n",
              "      if (!google.colab.kernel.accessAllowed) {\n",
              "        return;\n",
              "      }\n",
              "      const div = document.createElement('div');\n",
              "      const label = document.createElement('label');\n",
              "      label.textContent = `Downloading \"${filename}\": `;\n",
              "      div.appendChild(label);\n",
              "      const progress = document.createElement('progress');\n",
              "      progress.max = size;\n",
              "      div.appendChild(progress);\n",
              "      document.body.appendChild(div);\n",
              "\n",
              "      const buffers = [];\n",
              "      let downloaded = 0;\n",
              "\n",
              "      const channel = await google.colab.kernel.comms.open(id);\n",
              "      // Send a message to notify the kernel that we're ready.\n",
              "      channel.send({})\n",
              "\n",
              "      for await (const message of channel.messages) {\n",
              "        // Send a message to notify the kernel that we're ready.\n",
              "        channel.send({})\n",
              "        if (message.buffers) {\n",
              "          for (const buffer of message.buffers) {\n",
              "            buffers.push(buffer);\n",
              "            downloaded += buffer.byteLength;\n",
              "            progress.value = downloaded;\n",
              "          }\n",
              "        }\n",
              "      }\n",
              "      const blob = new Blob(buffers, {type: 'application/binary'});\n",
              "      const a = document.createElement('a');\n",
              "      a.href = window.URL.createObjectURL(blob);\n",
              "      a.download = filename;\n",
              "      div.appendChild(a);\n",
              "      a.click();\n",
              "      div.remove();\n",
              "    }\n",
              "  "
            ],
            "text/plain": [
              "<IPython.core.display.Javascript object>"
            ]
          },
          "metadata": {}
        },
        {
          "output_type": "display_data",
          "data": {
            "application/javascript": [
              "download(\"download_1e12af9a-c248-4998-afdc-5db3373c5641\", \"embedding_metadata.tsv\", 6416)"
            ],
            "text/plain": [
              "<IPython.core.display.Javascript object>"
            ]
          },
          "metadata": {}
        }
      ]
    },
    {
      "cell_type": "code",
      "metadata": {
        "id": "-kKtMEF55QAs"
      },
      "source": [
        "# LSTM Model\n",
        "\n",
        "inputs = layers.Input(shape=(1,), dtype=tf.string)\n",
        "x = text_vectorizer(inputs)\n",
        "x = embedding(x)\n",
        "x = layers.LSTM(64, return_sequences=True)(x)\n",
        "x = layers.LSTM(64)(x)\n",
        "x = layers.Dense(64, activation=\"relu\")(x)\n",
        "outputs = layers.Dense(1, activation=\"sigmoid\")(x)\n",
        "model_2 = tf.keras.Model(inputs, outputs, name=\"model_2_LSTM\")"
      ],
      "execution_count": 66,
      "outputs": []
    },
    {
      "cell_type": "code",
      "metadata": {
        "id": "FnZhY6bBEIyI"
      },
      "source": [
        "model_2.compile(loss=tf.keras.losses.binary_crossentropy,\n",
        "                optimizer=tf.keras.optimizers.Adam(),\n",
        "                metrics=[\"accuracy\"])"
      ],
      "execution_count": 70,
      "outputs": []
    },
    {
      "cell_type": "code",
      "metadata": {
        "colab": {
          "base_uri": "https://localhost:8080/"
        },
        "id": "_oVsDl_EFzMy",
        "outputId": "cec9ac3f-4983-4f8e-def0-2f112f8aaa4d"
      },
      "source": [
        "history_2 = model_2.fit(x=train_sentences,\n",
        "                        y=train_labels,\n",
        "                        validation_data = (val_sentences, val_labels),\n",
        "                        epochs=5,\n",
        "                        callbacks=[create_tensorboard_callback(dir_name=SAVE_DIR,\n",
        "                                                               experiment_name=\"model_2_LSTM\")])"
      ],
      "execution_count": 71,
      "outputs": [
        {
          "output_type": "stream",
          "name": "stdout",
          "text": [
            "Saving TensorBoard log files to: model_logs/model_2_LSTM/20210906-031414\n",
            "Epoch 1/5\n",
            "215/215 [==============================] - 10s 22ms/step - loss: 0.4088 - accuracy: 0.8221 - val_loss: 0.4818 - val_accuracy: 0.7782\n",
            "Epoch 2/5\n",
            "215/215 [==============================] - 3s 14ms/step - loss: 0.3794 - accuracy: 0.8340 - val_loss: 0.4810 - val_accuracy: 0.7782\n",
            "Epoch 3/5\n",
            "215/215 [==============================] - 3s 14ms/step - loss: 0.3739 - accuracy: 0.8364 - val_loss: 0.4835 - val_accuracy: 0.7848\n",
            "Epoch 4/5\n",
            "215/215 [==============================] - 3s 14ms/step - loss: 0.3557 - accuracy: 0.8470 - val_loss: 0.5251 - val_accuracy: 0.7769\n",
            "Epoch 5/5\n",
            "215/215 [==============================] - 3s 14ms/step - loss: 0.3311 - accuracy: 0.8568 - val_loss: 0.5181 - val_accuracy: 0.7638\n"
          ]
        }
      ]
    },
    {
      "cell_type": "code",
      "metadata": {
        "id": "UCgZsTc8GWYl"
      },
      "source": [
        "model_2_pred = tf.squeeze(tf.round(model_2.predict(val_sentences)))"
      ],
      "execution_count": 74,
      "outputs": []
    },
    {
      "cell_type": "code",
      "metadata": {
        "colab": {
          "base_uri": "https://localhost:8080/"
        },
        "id": "tnN0t7XwGs5M",
        "outputId": "eb6e91a9-fbf7-4c9c-f67b-e7e61b4172bf"
      },
      "source": [
        "model_2_result = calc_result(val_labels, model_2_pred)\n",
        "model_2_result"
      ],
      "execution_count": 75,
      "outputs": [
        {
          "output_type": "execute_result",
          "data": {
            "text/plain": [
              "{'accuracy': 76.37795275590551,\n",
              " 'f1': 0.7614611317036961,\n",
              " 'precision': 0.7626691657124374,\n",
              " 'recall': 0.7637795275590551}"
            ]
          },
          "metadata": {},
          "execution_count": 75
        }
      ]
    },
    {
      "cell_type": "code",
      "metadata": {
        "id": "5bNU1MbEG4oR"
      },
      "source": [
        "# bidirectional LSTM\n",
        "\n",
        "inputs = layers.Input(shape=(1,), dtype=tf.string)\n",
        "x = text_vectorizer(inputs)\n",
        "x = embedding(x)\n",
        "x = layers.Bidirectional(layers.LSTM(64, return_sequences=True))(x)\n",
        "x = layers.Bidirectional(layers.LSTM(64))(x)\n",
        "x = layers.Dense(64, activation=\"relu\")(x)\n",
        "outputs = layers.Dense(1, activation=\"sigmoid\")(x)\n",
        "model_3 = tf.keras.Model(inputs, outputs, name=\"model_3_bidirectional_LSTM\")"
      ],
      "execution_count": 77,
      "outputs": []
    },
    {
      "cell_type": "code",
      "metadata": {
        "id": "j4ySnqNlHx9M"
      },
      "source": [
        "model_3.compile(loss=tf.keras.losses.binary_crossentropy,\n",
        "                optimizer=tf.keras.optimizers.Adam(),\n",
        "                metrics=[\"accuracy\"])"
      ],
      "execution_count": 78,
      "outputs": []
    },
    {
      "cell_type": "code",
      "metadata": {
        "colab": {
          "base_uri": "https://localhost:8080/"
        },
        "id": "BWq6vaZuH2xN",
        "outputId": "9af19b96-88f0-44b4-cde3-e880b27331e4"
      },
      "source": [
        "history_3 = model_3.fit(x=train_sentences,\n",
        "                        y=train_labels,\n",
        "                        validation_data = (val_sentences, val_labels),\n",
        "                        epochs=5,\n",
        "                        callbacks=[create_tensorboard_callback(dir_name=SAVE_DIR,\n",
        "                                                               experiment_name=\"model_3_bidirectional_LSTM\")])"
      ],
      "execution_count": 79,
      "outputs": [
        {
          "output_type": "stream",
          "name": "stdout",
          "text": [
            "Saving TensorBoard log files to: model_logs/model_3_bidirectional_LSTM/20210906-032115\n",
            "Epoch 1/5\n",
            "215/215 [==============================] - 14s 35ms/step - loss: 0.3585 - accuracy: 0.8498 - val_loss: 0.5284 - val_accuracy: 0.7756\n",
            "Epoch 2/5\n",
            "215/215 [==============================] - 5s 25ms/step - loss: 0.3124 - accuracy: 0.8632 - val_loss: 0.5678 - val_accuracy: 0.7690\n",
            "Epoch 3/5\n",
            "215/215 [==============================] - 5s 24ms/step - loss: 0.2834 - accuracy: 0.8753 - val_loss: 0.5880 - val_accuracy: 0.7677\n",
            "Epoch 4/5\n",
            "215/215 [==============================] - 5s 24ms/step - loss: 0.2651 - accuracy: 0.8818 - val_loss: 0.6207 - val_accuracy: 0.7559\n",
            "Epoch 5/5\n",
            "215/215 [==============================] - 5s 25ms/step - loss: 0.2459 - accuracy: 0.8904 - val_loss: 0.6609 - val_accuracy: 0.7782\n"
          ]
        }
      ]
    },
    {
      "cell_type": "code",
      "metadata": {
        "id": "iojVmB_7H20F"
      },
      "source": [
        "model_3_pred = tf.squeeze(tf.round(model_3.predict(val_sentences)))"
      ],
      "execution_count": 80,
      "outputs": []
    },
    {
      "cell_type": "code",
      "metadata": {
        "colab": {
          "base_uri": "https://localhost:8080/"
        },
        "id": "hP8YlgKwH22d",
        "outputId": "0fa7b445-5969-421d-98e5-0305a23f3221"
      },
      "source": [
        "model_3_result = calc_result(val_labels, model_3_pred)\n",
        "model_3_result"
      ],
      "execution_count": 81,
      "outputs": [
        {
          "output_type": "execute_result",
          "data": {
            "text/plain": [
              "{'accuracy': 77.82152230971128,\n",
              " 'f1': 0.7732453276385931,\n",
              " 'precision': 0.7812032148016453,\n",
              " 'recall': 0.7782152230971129}"
            ]
          },
          "metadata": {},
          "execution_count": 81
        }
      ]
    },
    {
      "cell_type": "code",
      "metadata": {
        "id": "xVtMOjwaIEV2"
      },
      "source": [
        "# Conv1D\n",
        "\n",
        "inputs = layers.Input(shape=(1,), dtype=tf.string)\n",
        "x = text_vectorizer(inputs)\n",
        "x = embedding(x)\n",
        "x = layers.Conv1D(filters=10,\n",
        "                  kernel_size=2,\n",
        "                  strides=1,\n",
        "                  padding=\"valid\",\n",
        "                  activation=\"relu\")(x)\n",
        "x = layers.GlobalAveragePooling1D()(x)\n",
        "outputs = layers.Dense(1, activation=\"sigmoid\")(x)\n",
        "model_4 = tf.keras.Model(inputs, outputs)"
      ],
      "execution_count": 89,
      "outputs": []
    },
    {
      "cell_type": "code",
      "metadata": {
        "id": "ySem1QkVLdYe"
      },
      "source": [
        "model_4.compile(loss=tf.keras.losses.binary_crossentropy,\n",
        "                optimizer=tf.keras.optimizers.Adam(),\n",
        "                metrics=[\"accuracy\"])"
      ],
      "execution_count": 90,
      "outputs": []
    },
    {
      "cell_type": "code",
      "metadata": {
        "colab": {
          "base_uri": "https://localhost:8080/"
        },
        "id": "Ufx9FyGZLsxX",
        "outputId": "0cd07596-8c81-4261-d2e5-80866ea46646"
      },
      "source": [
        "history_4 = model_4.fit(x=train_sentences,\n",
        "                        y=train_labels,\n",
        "                        validation_data = (val_sentences, val_labels),\n",
        "                        epochs=5,\n",
        "                        callbacks=[create_tensorboard_callback(dir_name=SAVE_DIR,\n",
        "                                                               experiment_name=\"model_4_Conv1D\")])"
      ],
      "execution_count": 91,
      "outputs": [
        {
          "output_type": "stream",
          "name": "stdout",
          "text": [
            "Saving TensorBoard log files to: model_logs/model_4_Conv1D/20210906-033945\n",
            "Epoch 1/5\n",
            "215/215 [==============================] - 3s 10ms/step - loss: 0.4539 - accuracy: 0.8152 - val_loss: 0.4766 - val_accuracy: 0.7756\n",
            "Epoch 2/5\n",
            "215/215 [==============================] - 1s 7ms/step - loss: 0.3645 - accuracy: 0.8394 - val_loss: 0.5009 - val_accuracy: 0.7690\n",
            "Epoch 3/5\n",
            "215/215 [==============================] - 1s 7ms/step - loss: 0.3568 - accuracy: 0.8435 - val_loss: 0.5143 - val_accuracy: 0.7756\n",
            "Epoch 4/5\n",
            "215/215 [==============================] - 1s 7ms/step - loss: 0.3541 - accuracy: 0.8428 - val_loss: 0.5180 - val_accuracy: 0.7690\n",
            "Epoch 5/5\n",
            "215/215 [==============================] - 1s 6ms/step - loss: 0.3501 - accuracy: 0.8429 - val_loss: 0.5261 - val_accuracy: 0.7730\n"
          ]
        }
      ]
    },
    {
      "cell_type": "code",
      "metadata": {
        "id": "cR0BzDXaLzHu"
      },
      "source": [
        "model_4_pred = tf.squeeze(tf.round(model_4.predict(val_sentences)))"
      ],
      "execution_count": 92,
      "outputs": []
    },
    {
      "cell_type": "code",
      "metadata": {
        "colab": {
          "base_uri": "https://localhost:8080/"
        },
        "id": "q_tVJ9YNL2B1",
        "outputId": "c9b2149b-ea78-4a5e-9aa0-44da56cd6494"
      },
      "source": [
        "model_4_result = calc_result(val_labels, model_4_pred)\n",
        "model_4_result"
      ],
      "execution_count": 93,
      "outputs": [
        {
          "output_type": "execute_result",
          "data": {
            "text/plain": [
              "{'accuracy': 77.29658792650919,\n",
              " 'f1': 0.7718033837538939,\n",
              " 'precision': 0.7718418538814236,\n",
              " 'recall': 0.7729658792650919}"
            ]
          },
          "metadata": {},
          "execution_count": 93
        }
      ]
    },
    {
      "cell_type": "code",
      "metadata": {
        "id": "GcMDkxVLL7_O"
      },
      "source": [
        "# use embedding from tensorflow hub\n",
        "# Example of pretrained embedding with universal sentence encoder - https://tfhub.dev/google/universal-sentence-encoder/4\n",
        "import tensorflow_hub as hub\n",
        "embed = hub.load(\"https://tfhub.dev/google/universal-sentence-encoder/4\")"
      ],
      "execution_count": 94,
      "outputs": []
    },
    {
      "cell_type": "code",
      "metadata": {
        "id": "mqM_992qNB2P"
      },
      "source": [
        "senstence_encoder_layer = hub.KerasLayer(\"https://tfhub.dev/google/universal-sentence-encoder/4\",\n",
        "                                         input_shape=[],\n",
        "                                         dtype=tf.string,\n",
        "                                         trainable=False,\n",
        "                                         name=\"USE\")"
      ],
      "execution_count": 95,
      "outputs": []
    },
    {
      "cell_type": "code",
      "metadata": {
        "id": "NRU3rHfmNnXg"
      },
      "source": [
        "model_5 = tf.keras.Sequential([\n",
        "  senstence_encoder_layer,\n",
        "  layers.Dense(1,activation=\"sigmoid\")\n",
        "])"
      ],
      "execution_count": 96,
      "outputs": []
    },
    {
      "cell_type": "code",
      "metadata": {
        "id": "8y1WHuIQN6m6"
      },
      "source": [
        "model_5.compile(loss=tf.keras.losses.binary_crossentropy,\n",
        "                optimizer=tf.keras.optimizers.Adam(),\n",
        "                metrics=[\"accuracy\"])"
      ],
      "execution_count": 97,
      "outputs": []
    },
    {
      "cell_type": "code",
      "metadata": {
        "colab": {
          "base_uri": "https://localhost:8080/"
        },
        "id": "0VwRVH5WN6pC",
        "outputId": "4be436f6-9749-494f-b532-edb92b35ea98"
      },
      "source": [
        "history_5 = model_5.fit(x=train_sentences,\n",
        "                        y=train_labels,\n",
        "                        validation_data = (val_sentences, val_labels),\n",
        "                        epochs=5,\n",
        "                        callbacks=[create_tensorboard_callback(dir_name=SAVE_DIR,\n",
        "                                                               experiment_name=\"model_5_USE\")])"
      ],
      "execution_count": 98,
      "outputs": [
        {
          "output_type": "stream",
          "name": "stdout",
          "text": [
            "Saving TensorBoard log files to: model_logs/model_5_USE/20210906-034820\n",
            "Epoch 1/5\n",
            "215/215 [==============================] - 9s 30ms/step - loss: 0.6437 - accuracy: 0.7535 - val_loss: 0.6019 - val_accuracy: 0.7966\n",
            "Epoch 2/5\n",
            "215/215 [==============================] - 4s 18ms/step - loss: 0.5778 - accuracy: 0.7917 - val_loss: 0.5497 - val_accuracy: 0.7992\n",
            "Epoch 3/5\n",
            "215/215 [==============================] - 4s 18ms/step - loss: 0.5364 - accuracy: 0.7943 - val_loss: 0.5155 - val_accuracy: 0.8045\n",
            "Epoch 4/5\n",
            "215/215 [==============================] - 4s 18ms/step - loss: 0.5088 - accuracy: 0.7952 - val_loss: 0.4921 - val_accuracy: 0.8071\n",
            "Epoch 5/5\n",
            "215/215 [==============================] - 4s 17ms/step - loss: 0.4895 - accuracy: 0.7975 - val_loss: 0.4754 - val_accuracy: 0.8058\n"
          ]
        }
      ]
    },
    {
      "cell_type": "code",
      "metadata": {
        "id": "nySVV5uTOJth"
      },
      "source": [
        "model_5_pred = tf.squeeze(tf.round(model_5.predict(val_sentences)))"
      ],
      "execution_count": 99,
      "outputs": []
    },
    {
      "cell_type": "code",
      "metadata": {
        "colab": {
          "base_uri": "https://localhost:8080/"
        },
        "id": "nDR1H728OLq9",
        "outputId": "8b21224e-fa5c-48f1-affe-d6b8f4e871df"
      },
      "source": [
        "model_5_result = calc_result(val_labels, model_5_pred)\n",
        "model_5_result"
      ],
      "execution_count": 100,
      "outputs": [
        {
          "output_type": "execute_result",
          "data": {
            "text/plain": [
              "{'accuracy': 80.5774278215223,\n",
              " 'f1': 0.8051472368389099,\n",
              " 'precision': 0.805075738258237,\n",
              " 'recall': 0.8057742782152231}"
            ]
          },
          "metadata": {},
          "execution_count": 100
        }
      ]
    },
    {
      "cell_type": "code",
      "metadata": {
        "id": "ETaPLrY4OLuP"
      },
      "source": [
        ""
      ],
      "execution_count": null,
      "outputs": []
    }
  ]
}