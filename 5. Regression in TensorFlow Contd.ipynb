{
  "nbformat": 4,
  "nbformat_minor": 0,
  "metadata": {
    "colab": {
      "name": "5. Regression in TensorFlow Contd.ipynb",
      "provenance": [],
      "authorship_tag": "ABX9TyMP5JbISJsg6AJrCmrN7/dL",
      "include_colab_link": true
    },
    "kernelspec": {
      "name": "python3",
      "display_name": "Python 3"
    },
    "language_info": {
      "name": "python"
    },
    "accelerator": "GPU"
  },
  "cells": [
    {
      "cell_type": "markdown",
      "metadata": {
        "id": "view-in-github",
        "colab_type": "text"
      },
      "source": [
        "<a href=\"https://colab.research.google.com/github/jasonstoy/TensorFlow/blob/main/5.%20Regression%20in%20TensorFlow%20Contd.ipynb\" target=\"_parent\"><img src=\"https://colab.research.google.com/assets/colab-badge.svg\" alt=\"Open In Colab\"/></a>"
      ]
    },
    {
      "cell_type": "code",
      "metadata": {
        "colab": {
          "base_uri": "https://localhost:8080/"
        },
        "id": "uyps41UZpfQf",
        "outputId": "03184639-365d-40ec-bc36-8d1667f1f500"
      },
      "source": [
        "import tensorflow as tf\n",
        "import pandas as pd\n",
        "import numpy as np\n",
        "import matplotlib.pyplot as plt\n",
        "from sklearn.model_selection import train_test_split\n",
        "from sklearn.compose import make_column_transformer\n",
        "from sklearn.preprocessing import MinMaxScaler, OneHotEncoder\n",
        "\n",
        "print(tf.__version__)"
      ],
      "execution_count": 72,
      "outputs": [
        {
          "output_type": "stream",
          "text": [
            "2.6.0\n"
          ],
          "name": "stdout"
        }
      ]
    },
    {
      "cell_type": "code",
      "metadata": {
        "colab": {
          "base_uri": "https://localhost:8080/",
          "height": 419
        },
        "id": "DnGLxrRldNKa",
        "outputId": "3b914619-1624-4e2f-bba7-c08650d370ed"
      },
      "source": [
        "# Read in Data\n",
        "insurance = pd.read_csv(\"https://raw.githubusercontent.com/stedy/Machine-Learning-with-R-datasets/master/insurance.csv\")\n",
        "insurance"
      ],
      "execution_count": 4,
      "outputs": [
        {
          "output_type": "execute_result",
          "data": {
            "text/html": [
              "<div>\n",
              "<style scoped>\n",
              "    .dataframe tbody tr th:only-of-type {\n",
              "        vertical-align: middle;\n",
              "    }\n",
              "\n",
              "    .dataframe tbody tr th {\n",
              "        vertical-align: top;\n",
              "    }\n",
              "\n",
              "    .dataframe thead th {\n",
              "        text-align: right;\n",
              "    }\n",
              "</style>\n",
              "<table border=\"1\" class=\"dataframe\">\n",
              "  <thead>\n",
              "    <tr style=\"text-align: right;\">\n",
              "      <th></th>\n",
              "      <th>age</th>\n",
              "      <th>sex</th>\n",
              "      <th>bmi</th>\n",
              "      <th>children</th>\n",
              "      <th>smoker</th>\n",
              "      <th>region</th>\n",
              "      <th>charges</th>\n",
              "    </tr>\n",
              "  </thead>\n",
              "  <tbody>\n",
              "    <tr>\n",
              "      <th>0</th>\n",
              "      <td>19</td>\n",
              "      <td>female</td>\n",
              "      <td>27.900</td>\n",
              "      <td>0</td>\n",
              "      <td>yes</td>\n",
              "      <td>southwest</td>\n",
              "      <td>16884.92400</td>\n",
              "    </tr>\n",
              "    <tr>\n",
              "      <th>1</th>\n",
              "      <td>18</td>\n",
              "      <td>male</td>\n",
              "      <td>33.770</td>\n",
              "      <td>1</td>\n",
              "      <td>no</td>\n",
              "      <td>southeast</td>\n",
              "      <td>1725.55230</td>\n",
              "    </tr>\n",
              "    <tr>\n",
              "      <th>2</th>\n",
              "      <td>28</td>\n",
              "      <td>male</td>\n",
              "      <td>33.000</td>\n",
              "      <td>3</td>\n",
              "      <td>no</td>\n",
              "      <td>southeast</td>\n",
              "      <td>4449.46200</td>\n",
              "    </tr>\n",
              "    <tr>\n",
              "      <th>3</th>\n",
              "      <td>33</td>\n",
              "      <td>male</td>\n",
              "      <td>22.705</td>\n",
              "      <td>0</td>\n",
              "      <td>no</td>\n",
              "      <td>northwest</td>\n",
              "      <td>21984.47061</td>\n",
              "    </tr>\n",
              "    <tr>\n",
              "      <th>4</th>\n",
              "      <td>32</td>\n",
              "      <td>male</td>\n",
              "      <td>28.880</td>\n",
              "      <td>0</td>\n",
              "      <td>no</td>\n",
              "      <td>northwest</td>\n",
              "      <td>3866.85520</td>\n",
              "    </tr>\n",
              "    <tr>\n",
              "      <th>...</th>\n",
              "      <td>...</td>\n",
              "      <td>...</td>\n",
              "      <td>...</td>\n",
              "      <td>...</td>\n",
              "      <td>...</td>\n",
              "      <td>...</td>\n",
              "      <td>...</td>\n",
              "    </tr>\n",
              "    <tr>\n",
              "      <th>1333</th>\n",
              "      <td>50</td>\n",
              "      <td>male</td>\n",
              "      <td>30.970</td>\n",
              "      <td>3</td>\n",
              "      <td>no</td>\n",
              "      <td>northwest</td>\n",
              "      <td>10600.54830</td>\n",
              "    </tr>\n",
              "    <tr>\n",
              "      <th>1334</th>\n",
              "      <td>18</td>\n",
              "      <td>female</td>\n",
              "      <td>31.920</td>\n",
              "      <td>0</td>\n",
              "      <td>no</td>\n",
              "      <td>northeast</td>\n",
              "      <td>2205.98080</td>\n",
              "    </tr>\n",
              "    <tr>\n",
              "      <th>1335</th>\n",
              "      <td>18</td>\n",
              "      <td>female</td>\n",
              "      <td>36.850</td>\n",
              "      <td>0</td>\n",
              "      <td>no</td>\n",
              "      <td>southeast</td>\n",
              "      <td>1629.83350</td>\n",
              "    </tr>\n",
              "    <tr>\n",
              "      <th>1336</th>\n",
              "      <td>21</td>\n",
              "      <td>female</td>\n",
              "      <td>25.800</td>\n",
              "      <td>0</td>\n",
              "      <td>no</td>\n",
              "      <td>southwest</td>\n",
              "      <td>2007.94500</td>\n",
              "    </tr>\n",
              "    <tr>\n",
              "      <th>1337</th>\n",
              "      <td>61</td>\n",
              "      <td>female</td>\n",
              "      <td>29.070</td>\n",
              "      <td>0</td>\n",
              "      <td>yes</td>\n",
              "      <td>northwest</td>\n",
              "      <td>29141.36030</td>\n",
              "    </tr>\n",
              "  </tbody>\n",
              "</table>\n",
              "<p>1338 rows × 7 columns</p>\n",
              "</div>"
            ],
            "text/plain": [
              "      age     sex     bmi  children smoker     region      charges\n",
              "0      19  female  27.900         0    yes  southwest  16884.92400\n",
              "1      18    male  33.770         1     no  southeast   1725.55230\n",
              "2      28    male  33.000         3     no  southeast   4449.46200\n",
              "3      33    male  22.705         0     no  northwest  21984.47061\n",
              "4      32    male  28.880         0     no  northwest   3866.85520\n",
              "...   ...     ...     ...       ...    ...        ...          ...\n",
              "1333   50    male  30.970         3     no  northwest  10600.54830\n",
              "1334   18  female  31.920         0     no  northeast   2205.98080\n",
              "1335   18  female  36.850         0     no  southeast   1629.83350\n",
              "1336   21  female  25.800         0     no  southwest   2007.94500\n",
              "1337   61  female  29.070         0    yes  northwest  29141.36030\n",
              "\n",
              "[1338 rows x 7 columns]"
            ]
          },
          "metadata": {},
          "execution_count": 4
        }
      ]
    },
    {
      "cell_type": "code",
      "metadata": {
        "id": "DACgHho_deAn"
      },
      "source": [
        "# One-hot encoding\n",
        "# insurance_one_hot = pd.get_dummies(insurance)\n",
        "# insurance_one_hot"
      ],
      "execution_count": 73,
      "outputs": []
    },
    {
      "cell_type": "code",
      "metadata": {
        "id": "F1lS5hZMeY8z"
      },
      "source": [
        "X = insurance.drop(['charges'],axis=1)\n",
        "y = insurance[['charges']]"
      ],
      "execution_count": 74,
      "outputs": []
    },
    {
      "cell_type": "code",
      "metadata": {
        "colab": {
          "base_uri": "https://localhost:8080/",
          "height": 282
        },
        "id": "Y-QfsiVRlf0u",
        "outputId": "14b73cf6-089a-406b-ed5a-326328fa6f2b"
      },
      "source": [
        "X['age'].plot(kind=\"hist\")"
      ],
      "execution_count": 65,
      "outputs": [
        {
          "output_type": "execute_result",
          "data": {
            "text/plain": [
              "<matplotlib.axes._subplots.AxesSubplot at 0x7fd979aeacd0>"
            ]
          },
          "metadata": {},
          "execution_count": 65
        },
        {
          "output_type": "display_data",
          "data": {
            "image/png": "[encoded data removed]",
            "text/plain": [
              "<Figure size 432x288 with 1 Axes>"
            ]
          },
          "metadata": {
            "needs_background": "light"
          }
        }
      ]
    },
    {
      "cell_type": "code",
      "metadata": {
        "colab": {
          "base_uri": "https://localhost:8080/",
          "height": 282
        },
        "id": "RKcuW1gilf3G",
        "outputId": "d38d7514-4610-4098-ad91-1e5dc708c4c8"
      },
      "source": [
        "X['bmi'].plot(kind=\"hist\")"
      ],
      "execution_count": 66,
      "outputs": [
        {
          "output_type": "execute_result",
          "data": {
            "text/plain": [
              "<matplotlib.axes._subplots.AxesSubplot at 0x7fd9794afb90>"
            ]
          },
          "metadata": {},
          "execution_count": 66
        },
        {
          "output_type": "display_data",
          "data": {
            "image/png": "[encoded data removed]",
            "text/plain": [
              "<Figure size 432x288 with 1 Axes>"
            ]
          },
          "metadata": {
            "needs_background": "light"
          }
        }
      ]
    },
    {
      "cell_type": "code",
      "metadata": {
        "colab": {
          "base_uri": "https://localhost:8080/"
        },
        "id": "hQvVu6VWlt8D",
        "outputId": "c429c783-85e8-460c-b5b2-5cdafe1a4b02"
      },
      "source": [
        "X['children'].value_counts()"
      ],
      "execution_count": 70,
      "outputs": [
        {
          "output_type": "execute_result",
          "data": {
            "text/plain": [
              "0    574\n",
              "1    324\n",
              "2    240\n",
              "3    157\n",
              "4     25\n",
              "5     18\n",
              "Name: children, dtype: int64"
            ]
          },
          "metadata": {},
          "execution_count": 70
        }
      ]
    },
    {
      "cell_type": "code",
      "metadata": {
        "id": "4sI-XmrXfMdA"
      },
      "source": [
        "X_train, X_test, y_train, y_test = train_test_split(X, y, test_size=0.2, random_state=5)"
      ],
      "execution_count": 75,
      "outputs": []
    },
    {
      "cell_type": "code",
      "metadata": {
        "id": "AnY8IVIimkm9"
      },
      "source": [
        "# create a column transformer\n",
        "ct = make_column_transformer(\n",
        "    (MinMaxScaler(), ['age','bmi','children']),\n",
        "    (OneHotEncoder(handle_unknown=\"ignore\"),['sex','smoker','region'])\n",
        ")\n",
        "\n",
        "ct.fit(X_train)\n",
        "X_train = ct.transform(X_train)\n",
        "X_test = ct.transform(X_test)"
      ],
      "execution_count": 76,
      "outputs": []
    },
    {
      "cell_type": "code",
      "metadata": {
        "colab": {
          "base_uri": "https://localhost:8080/"
        },
        "id": "yQJEqiFXn7ui",
        "outputId": "d40ffc0e-a509-4e9f-dd62-8e3d62e0ebd9"
      },
      "source": [
        "X_train"
      ],
      "execution_count": 82,
      "outputs": [
        {
          "output_type": "execute_result",
          "data": {
            "text/plain": [
              "array([[0.2173913 , 0.56873823, 0.2       , ..., 0.        , 0.        ,\n",
              "        1.        ],\n",
              "       [0.13043478, 0.22235674, 0.        , ..., 1.        , 0.        ,\n",
              "        0.        ],\n",
              "       [0.02173913, 0.39359699, 0.        , ..., 1.        , 0.        ,\n",
              "        0.        ],\n",
              "       ...,\n",
              "       [0.32608696, 0.54694646, 0.6       , ..., 0.        , 0.        ,\n",
              "        0.        ],\n",
              "       [0.89130435, 0.28087167, 0.        , ..., 0.        , 1.        ,\n",
              "        0.        ],\n",
              "       [0.84782609, 0.74630078, 0.2       , ..., 0.        , 0.        ,\n",
              "        1.        ]])"
            ]
          },
          "metadata": {},
          "execution_count": 82
        }
      ]
    },
    {
      "cell_type": "code",
      "metadata": {
        "id": "yN-k2YGNfxf4"
      },
      "source": [
        "tf.random.set_seed(5)\n",
        "\n",
        "model = tf.keras.Sequential()\n",
        "model.add(tf.keras.layers.Dense(60,input_shape=[11]))\n",
        "model.add(tf.keras.layers.Dense(30))\n",
        "model.add(tf.keras.layers.Dense(15))\n",
        "model.add(tf.keras.layers.Dense(1))\n",
        "\n",
        "model.compile(loss=tf.keras.losses.mae,\n",
        "              optimizer=tf.keras.optimizers.Adam(learning_rate=0.02),\n",
        "              metrics=['mae'])"
      ],
      "execution_count": 77,
      "outputs": []
    },
    {
      "cell_type": "code",
      "metadata": {
        "colab": {
          "base_uri": "https://localhost:8080/"
        },
        "id": "BKGFD1QShhV7",
        "outputId": "93d5d84e-5f8d-48e7-eeeb-e349be25af07"
      },
      "source": [
        "model.summary()"
      ],
      "execution_count": 78,
      "outputs": [
        {
          "output_type": "stream",
          "text": [
            "Model: \"sequential_15\"\n",
            "_________________________________________________________________\n",
            "Layer (type)                 Output Shape              Param #   \n",
            "=================================================================\n",
            "dense_39 (Dense)             (None, 60)                720       \n",
            "_________________________________________________________________\n",
            "dense_40 (Dense)             (None, 30)                1830      \n",
            "_________________________________________________________________\n",
            "dense_41 (Dense)             (None, 15)                465       \n",
            "_________________________________________________________________\n",
            "dense_42 (Dense)             (None, 1)                 16        \n",
            "=================================================================\n",
            "Total params: 3,031\n",
            "Trainable params: 3,031\n",
            "Non-trainable params: 0\n",
            "_________________________________________________________________\n"
          ],
          "name": "stdout"
        }
      ]
    },
    {
      "cell_type": "code",
      "metadata": {
        "colab": {
          "base_uri": "https://localhost:8080/"
        },
        "id": "Fia8Tk4Jgf0D",
        "outputId": "290d978a-1bb7-42e3-f5b1-763711cf74fc"
      },
      "source": [
        "history = model.fit(X_train, y_train, epochs=100)"
      ],
      "execution_count": 79,
      "outputs": [
        {
          "output_type": "stream",
          "text": [
            "Epoch 1/100\n",
            "34/34 [==============================] - 1s 4ms/step - loss: 10840.9336 - mae: 10840.9336\n",
            "Epoch 2/100\n",
            "34/34 [==============================] - 0s 3ms/step - loss: 7065.3696 - mae: 7065.3696\n",
            "Epoch 3/100\n",
            "34/34 [==============================] - 0s 3ms/step - loss: 4247.1875 - mae: 4247.1875\n",
            "Epoch 4/100\n",
            "34/34 [==============================] - 0s 3ms/step - loss: 3655.9014 - mae: 3655.9014\n",
            "Epoch 5/100\n",
            "34/34 [==============================] - 0s 4ms/step - loss: 3568.9062 - mae: 3568.9062\n",
            "Epoch 6/100\n",
            "34/34 [==============================] - 0s 3ms/step - loss: 3619.5542 - mae: 3619.5542\n",
            "Epoch 7/100\n",
            "34/34 [==============================] - 0s 3ms/step - loss: 3725.0996 - mae: 3725.0996\n",
            "Epoch 8/100\n",
            "34/34 [==============================] - 0s 3ms/step - loss: 3586.8606 - mae: 3586.8606\n",
            "Epoch 9/100\n",
            "34/34 [==============================] - 0s 3ms/step - loss: 3569.0083 - mae: 3569.0083\n",
            "Epoch 10/100\n",
            "34/34 [==============================] - 0s 3ms/step - loss: 3549.8552 - mae: 3549.8552\n",
            "Epoch 11/100\n",
            "34/34 [==============================] - 0s 3ms/step - loss: 3632.8618 - mae: 3632.8618\n",
            "Epoch 12/100\n",
            "34/34 [==============================] - 0s 3ms/step - loss: 3662.3142 - mae: 3662.3142\n",
            "Epoch 13/100\n",
            "34/34 [==============================] - 0s 3ms/step - loss: 3568.2227 - mae: 3568.2227\n",
            "Epoch 14/100\n",
            "34/34 [==============================] - 0s 4ms/step - loss: 3556.0442 - mae: 3556.0442\n",
            "Epoch 15/100\n",
            "34/34 [==============================] - 0s 3ms/step - loss: 3643.3560 - mae: 3643.3560\n",
            "Epoch 16/100\n",
            "34/34 [==============================] - 0s 3ms/step - loss: 3510.2556 - mae: 3510.2556\n",
            "Epoch 17/100\n",
            "34/34 [==============================] - 0s 3ms/step - loss: 3852.8887 - mae: 3852.8887\n",
            "Epoch 18/100\n",
            "34/34 [==============================] - 0s 3ms/step - loss: 3594.5527 - mae: 3594.5527\n",
            "Epoch 19/100\n",
            "34/34 [==============================] - 0s 3ms/step - loss: 3589.0847 - mae: 3589.0847\n",
            "Epoch 20/100\n",
            "34/34 [==============================] - 0s 3ms/step - loss: 3698.0637 - mae: 3698.0637\n",
            "Epoch 21/100\n",
            "34/34 [==============================] - 0s 3ms/step - loss: 3535.8069 - mae: 3535.8069\n",
            "Epoch 22/100\n",
            "34/34 [==============================] - 0s 3ms/step - loss: 3528.0100 - mae: 3528.0100\n",
            "Epoch 23/100\n",
            "34/34 [==============================] - 0s 3ms/step - loss: 3599.5215 - mae: 3599.5215\n",
            "Epoch 24/100\n",
            "34/34 [==============================] - 0s 4ms/step - loss: 3558.6509 - mae: 3558.6509\n",
            "Epoch 25/100\n",
            "34/34 [==============================] - 0s 3ms/step - loss: 3551.8892 - mae: 3551.8892\n",
            "Epoch 26/100\n",
            "34/34 [==============================] - 0s 3ms/step - loss: 3526.7866 - mae: 3526.7866\n",
            "Epoch 27/100\n",
            "34/34 [==============================] - 0s 3ms/step - loss: 3580.2283 - mae: 3580.2283\n",
            "Epoch 28/100\n",
            "34/34 [==============================] - 0s 3ms/step - loss: 3505.3352 - mae: 3505.3352\n",
            "Epoch 29/100\n",
            "34/34 [==============================] - 0s 3ms/step - loss: 3557.3748 - mae: 3557.3748\n",
            "Epoch 30/100\n",
            "34/34 [==============================] - 0s 3ms/step - loss: 3582.1248 - mae: 3582.1248\n",
            "Epoch 31/100\n",
            "34/34 [==============================] - 0s 3ms/step - loss: 3659.4714 - mae: 3659.4714\n",
            "Epoch 32/100\n",
            "34/34 [==============================] - 0s 3ms/step - loss: 3558.6140 - mae: 3558.6140\n",
            "Epoch 33/100\n",
            "34/34 [==============================] - 0s 3ms/step - loss: 3556.2026 - mae: 3556.2026\n",
            "Epoch 34/100\n",
            "34/34 [==============================] - 0s 3ms/step - loss: 3560.2336 - mae: 3560.2336\n",
            "Epoch 35/100\n",
            "34/34 [==============================] - 0s 3ms/step - loss: 3523.8525 - mae: 3523.8525\n",
            "Epoch 36/100\n",
            "34/34 [==============================] - 0s 3ms/step - loss: 3535.9438 - mae: 3535.9438\n",
            "Epoch 37/100\n",
            "34/34 [==============================] - 0s 3ms/step - loss: 3564.5684 - mae: 3564.5684\n",
            "Epoch 38/100\n",
            "34/34 [==============================] - 0s 3ms/step - loss: 3548.5042 - mae: 3548.5042\n",
            "Epoch 39/100\n",
            "34/34 [==============================] - 0s 3ms/step - loss: 3531.9216 - mae: 3531.9216\n",
            "Epoch 40/100\n",
            "34/34 [==============================] - 0s 3ms/step - loss: 3619.7053 - mae: 3619.7053\n",
            "Epoch 41/100\n",
            "34/34 [==============================] - 0s 3ms/step - loss: 3582.1963 - mae: 3582.1963\n",
            "Epoch 42/100\n",
            "34/34 [==============================] - 0s 3ms/step - loss: 3611.4954 - mae: 3611.4954\n",
            "Epoch 43/100\n",
            "34/34 [==============================] - 0s 3ms/step - loss: 3558.0913 - mae: 3558.0913\n",
            "Epoch 44/100\n",
            "34/34 [==============================] - 0s 3ms/step - loss: 3571.4231 - mae: 3571.4231\n",
            "Epoch 45/100\n",
            "34/34 [==============================] - 0s 3ms/step - loss: 3556.8726 - mae: 3556.8726\n",
            "Epoch 46/100\n",
            "34/34 [==============================] - 0s 3ms/step - loss: 3592.2620 - mae: 3592.2620\n",
            "Epoch 47/100\n",
            "34/34 [==============================] - 0s 3ms/step - loss: 3627.6426 - mae: 3627.6426\n",
            "Epoch 48/100\n",
            "34/34 [==============================] - 0s 4ms/step - loss: 3699.6465 - mae: 3699.6465\n",
            "Epoch 49/100\n",
            "34/34 [==============================] - 0s 4ms/step - loss: 3551.4700 - mae: 3551.4700\n",
            "Epoch 50/100\n",
            "34/34 [==============================] - 0s 3ms/step - loss: 3556.8174 - mae: 3556.8174\n",
            "Epoch 51/100\n",
            "34/34 [==============================] - 0s 3ms/step - loss: 3622.2146 - mae: 3622.2146\n",
            "Epoch 52/100\n",
            "34/34 [==============================] - 0s 3ms/step - loss: 3551.9160 - mae: 3551.9160\n",
            "Epoch 53/100\n",
            "34/34 [==============================] - 0s 3ms/step - loss: 3593.9099 - mae: 3593.9099\n",
            "Epoch 54/100\n",
            "34/34 [==============================] - 0s 3ms/step - loss: 3605.2568 - mae: 3605.2568\n",
            "Epoch 55/100\n",
            "34/34 [==============================] - 0s 3ms/step - loss: 3599.6235 - mae: 3599.6235\n",
            "Epoch 56/100\n",
            "34/34 [==============================] - 0s 3ms/step - loss: 3577.5669 - mae: 3577.5669\n",
            "Epoch 57/100\n",
            "34/34 [==============================] - 0s 3ms/step - loss: 3536.2058 - mae: 3536.2058\n",
            "Epoch 58/100\n",
            "34/34 [==============================] - 0s 3ms/step - loss: 3540.6577 - mae: 3540.6577\n",
            "Epoch 59/100\n",
            "34/34 [==============================] - 0s 4ms/step - loss: 3581.8884 - mae: 3581.8884\n",
            "Epoch 60/100\n",
            "34/34 [==============================] - 0s 3ms/step - loss: 3509.3792 - mae: 3509.3792\n",
            "Epoch 61/100\n",
            "34/34 [==============================] - 0s 4ms/step - loss: 3617.6694 - mae: 3617.6694\n",
            "Epoch 62/100\n",
            "34/34 [==============================] - 0s 3ms/step - loss: 3531.5952 - mae: 3531.5952\n",
            "Epoch 63/100\n",
            "34/34 [==============================] - 0s 3ms/step - loss: 3573.0498 - mae: 3573.0498\n",
            "Epoch 64/100\n",
            "34/34 [==============================] - 0s 3ms/step - loss: 3610.9326 - mae: 3610.9326\n",
            "Epoch 65/100\n",
            "34/34 [==============================] - 0s 3ms/step - loss: 3571.6064 - mae: 3571.6064\n",
            "Epoch 66/100\n",
            "34/34 [==============================] - 0s 4ms/step - loss: 3575.7568 - mae: 3575.7568\n",
            "Epoch 67/100\n",
            "34/34 [==============================] - 0s 3ms/step - loss: 3545.7654 - mae: 3545.7654\n",
            "Epoch 68/100\n",
            "34/34 [==============================] - 0s 3ms/step - loss: 3529.3855 - mae: 3529.3855\n",
            "Epoch 69/100\n",
            "34/34 [==============================] - 0s 3ms/step - loss: 3607.9033 - mae: 3607.9033\n",
            "Epoch 70/100\n",
            "34/34 [==============================] - 0s 3ms/step - loss: 3553.8962 - mae: 3553.8962\n",
            "Epoch 71/100\n",
            "34/34 [==============================] - 0s 3ms/step - loss: 3545.7473 - mae: 3545.7473\n",
            "Epoch 72/100\n",
            "34/34 [==============================] - 0s 3ms/step - loss: 3641.1880 - mae: 3641.1880\n",
            "Epoch 73/100\n",
            "34/34 [==============================] - 0s 3ms/step - loss: 3630.7717 - mae: 3630.7717\n",
            "Epoch 74/100\n",
            "34/34 [==============================] - 0s 3ms/step - loss: 3600.4412 - mae: 3600.4412\n",
            "Epoch 75/100\n",
            "34/34 [==============================] - 0s 4ms/step - loss: 3574.9734 - mae: 3574.9734\n",
            "Epoch 76/100\n",
            "34/34 [==============================] - 0s 3ms/step - loss: 3542.9785 - mae: 3542.9785\n",
            "Epoch 77/100\n",
            "34/34 [==============================] - 0s 4ms/step - loss: 3584.8755 - mae: 3584.8755\n",
            "Epoch 78/100\n",
            "34/34 [==============================] - 0s 4ms/step - loss: 3613.9585 - mae: 3613.9585\n",
            "Epoch 79/100\n",
            "34/34 [==============================] - 0s 4ms/step - loss: 3572.1829 - mae: 3572.1829\n",
            "Epoch 80/100\n",
            "34/34 [==============================] - 0s 3ms/step - loss: 3517.1897 - mae: 3517.1897\n",
            "Epoch 81/100\n",
            "34/34 [==============================] - 0s 3ms/step - loss: 3652.2791 - mae: 3652.2791\n",
            "Epoch 82/100\n",
            "34/34 [==============================] - 0s 3ms/step - loss: 3545.0198 - mae: 3545.0198\n",
            "Epoch 83/100\n",
            "34/34 [==============================] - 0s 3ms/step - loss: 3547.0381 - mae: 3547.0381\n",
            "Epoch 84/100\n",
            "34/34 [==============================] - 0s 3ms/step - loss: 3550.0913 - mae: 3550.0913\n",
            "Epoch 85/100\n",
            "34/34 [==============================] - 0s 4ms/step - loss: 3568.2341 - mae: 3568.2341\n",
            "Epoch 86/100\n",
            "34/34 [==============================] - 0s 3ms/step - loss: 3582.3618 - mae: 3582.3618\n",
            "Epoch 87/100\n",
            "34/34 [==============================] - 0s 3ms/step - loss: 3594.2351 - mae: 3594.2351\n",
            "Epoch 88/100\n",
            "34/34 [==============================] - 0s 3ms/step - loss: 3547.8330 - mae: 3547.8330\n",
            "Epoch 89/100\n",
            "34/34 [==============================] - 0s 3ms/step - loss: 3557.4204 - mae: 3557.4204\n",
            "Epoch 90/100\n",
            "34/34 [==============================] - 0s 3ms/step - loss: 3572.3074 - mae: 3572.3074\n",
            "Epoch 91/100\n",
            "34/34 [==============================] - 0s 3ms/step - loss: 3548.8386 - mae: 3548.8386\n",
            "Epoch 92/100\n",
            "34/34 [==============================] - 0s 4ms/step - loss: 3594.6506 - mae: 3594.6506\n",
            "Epoch 93/100\n",
            "34/34 [==============================] - 0s 3ms/step - loss: 3650.5652 - mae: 3650.5652\n",
            "Epoch 94/100\n",
            "34/34 [==============================] - 0s 3ms/step - loss: 3568.7393 - mae: 3568.7393\n",
            "Epoch 95/100\n",
            "34/34 [==============================] - 0s 3ms/step - loss: 3602.8037 - mae: 3602.8037\n",
            "Epoch 96/100\n",
            "34/34 [==============================] - 0s 3ms/step - loss: 3537.9351 - mae: 3537.9351\n",
            "Epoch 97/100\n",
            "34/34 [==============================] - 0s 3ms/step - loss: 3555.5303 - mae: 3555.5303\n",
            "Epoch 98/100\n",
            "34/34 [==============================] - 0s 3ms/step - loss: 3661.7832 - mae: 3661.7832\n",
            "Epoch 99/100\n",
            "34/34 [==============================] - 0s 3ms/step - loss: 3539.1587 - mae: 3539.1587\n",
            "Epoch 100/100\n",
            "34/34 [==============================] - 0s 3ms/step - loss: 3556.8894 - mae: 3556.8894\n"
          ],
          "name": "stdout"
        }
      ]
    },
    {
      "cell_type": "code",
      "metadata": {
        "colab": {
          "base_uri": "https://localhost:8080/"
        },
        "id": "2RY9CnRQjZUq",
        "outputId": "816efde4-20bf-4dcb-9fc9-c2aa5fec5b38"
      },
      "source": [
        "model.evaluate(X_test, y_test)"
      ],
      "execution_count": 80,
      "outputs": [
        {
          "output_type": "stream",
          "text": [
            "9/9 [==============================] - 0s 3ms/step - loss: 3148.4692 - mae: 3148.4692\n"
          ],
          "name": "stdout"
        },
        {
          "output_type": "execute_result",
          "data": {
            "text/plain": [
              "[3148.46923828125, 3148.46923828125]"
            ]
          },
          "metadata": {},
          "execution_count": 80
        }
      ]
    },
    {
      "cell_type": "code",
      "metadata": {
        "colab": {
          "base_uri": "https://localhost:8080/",
          "height": 296
        },
        "id": "QbKksiyogfvB",
        "outputId": "47b21d49-f1f1-4902-f7f4-e52def1f2285"
      },
      "source": [
        "pd.DataFrame(history.history).plot()\n",
        "plt.ylabel(\"loss\")\n",
        "plt.xlabel(\"epochs\")"
      ],
      "execution_count": 81,
      "outputs": [
        {
          "output_type": "execute_result",
          "data": {
            "text/plain": [
              "Text(0.5, 0, 'epochs')"
            ]
          },
          "metadata": {},
          "execution_count": 81
        },
        {
          "output_type": "display_data",
          "data": {
            "image/png": "[encoded data removed]",
            "text/plain": [
              "<Figure size 432x288 with 1 Axes>"
            ]
          },
          "metadata": {
            "needs_background": "light"
          }
        }
      ]
    },
    {
      "cell_type": "code",
      "metadata": {
        "id": "i1V6WkbbhX3X"
      },
      "source": [
        ""
      ],
      "execution_count": null,
      "outputs": []
    }
  ]
}