{
  "nbformat": 4,
  "nbformat_minor": 0,
  "metadata": {
    "colab": {
      "name": "2. Tensor Basics.ipynb",
      "provenance": [],
      "authorship_tag": "ABX9TyPtVlO9NHL8LimJ5QiZCkPg",
      "include_colab_link": true
    },
    "kernelspec": {
      "name": "python3",
      "display_name": "Python 3"
    },
    "language_info": {
      "name": "python"
    }
  },
  "cells": [
    {
      "cell_type": "markdown",
      "metadata": {
        "id": "view-in-github",
        "colab_type": "text"
      },
      "source": [
        "<a href=\"https://colab.research.google.com/github/jasonstoy/TensorFlow/blob/main/2.%20Tensor_Basics.ipynb\" target=\"_parent\"><img src=\"https://colab.research.google.com/assets/colab-badge.svg\" alt=\"Open In Colab\"/></a>"
      ]
    },
    {
      "cell_type": "code",
      "metadata": {
        "id": "IyrwH5OaORvS",
        "colab": {
          "base_uri": "https://localhost:8080/"
        },
        "outputId": "0652cdc6-5155-43a3-a54d-82b755d44586"
      },
      "source": [
        "import tensorflow as tf\n",
        "import numpy as np\n",
        "\n",
        "print(tf.__version__)\n",
        "\n",
        "tf.random.set_seed(5)"
      ],
      "execution_count": 54,
      "outputs": [
        {
          "output_type": "stream",
          "text": [
            "2.6.0\n"
          ],
          "name": "stdout"
        }
      ]
    },
    {
      "cell_type": "code",
      "metadata": {
        "colab": {
          "base_uri": "https://localhost:8080/"
        },
        "id": "wm7qp1YwGKVo",
        "outputId": "cc2d8ac4-643f-4677-9e05-1ee466b3cf50"
      },
      "source": [
        "#get information from tensors\n",
        "#shape, rank, axis or dimension, size\n",
        "\n",
        "rank_4_tensor = tf.zeros(shape = (2,3,4,5))\n",
        "rank_4_tensor"
      ],
      "execution_count": 55,
      "outputs": [
        {
          "output_type": "execute_result",
          "data": {
            "text/plain": [
              "<tf.Tensor: shape=(2, 3, 4, 5), dtype=float32, numpy=\n",
              "array([[[[0., 0., 0., 0., 0.],\n",
              "         [0., 0., 0., 0., 0.],\n",
              "         [0., 0., 0., 0., 0.],\n",
              "         [0., 0., 0., 0., 0.]],\n",
              "\n",
              "        [[0., 0., 0., 0., 0.],\n",
              "         [0., 0., 0., 0., 0.],\n",
              "         [0., 0., 0., 0., 0.],\n",
              "         [0., 0., 0., 0., 0.]],\n",
              "\n",
              "        [[0., 0., 0., 0., 0.],\n",
              "         [0., 0., 0., 0., 0.],\n",
              "         [0., 0., 0., 0., 0.],\n",
              "         [0., 0., 0., 0., 0.]]],\n",
              "\n",
              "\n",
              "       [[[0., 0., 0., 0., 0.],\n",
              "         [0., 0., 0., 0., 0.],\n",
              "         [0., 0., 0., 0., 0.],\n",
              "         [0., 0., 0., 0., 0.]],\n",
              "\n",
              "        [[0., 0., 0., 0., 0.],\n",
              "         [0., 0., 0., 0., 0.],\n",
              "         [0., 0., 0., 0., 0.],\n",
              "         [0., 0., 0., 0., 0.]],\n",
              "\n",
              "        [[0., 0., 0., 0., 0.],\n",
              "         [0., 0., 0., 0., 0.],\n",
              "         [0., 0., 0., 0., 0.],\n",
              "         [0., 0., 0., 0., 0.]]]], dtype=float32)>"
            ]
          },
          "metadata": {},
          "execution_count": 55
        }
      ]
    },
    {
      "cell_type": "code",
      "metadata": {
        "colab": {
          "base_uri": "https://localhost:8080/"
        },
        "id": "IYn4HU6PHQmj",
        "outputId": "5ec6435a-123c-4545-c8d1-c7a11d2e1408"
      },
      "source": [
        "rank_4_tensor[0]"
      ],
      "execution_count": 56,
      "outputs": [
        {
          "output_type": "execute_result",
          "data": {
            "text/plain": [
              "<tf.Tensor: shape=(3, 4, 5), dtype=float32, numpy=\n",
              "array([[[0., 0., 0., 0., 0.],\n",
              "        [0., 0., 0., 0., 0.],\n",
              "        [0., 0., 0., 0., 0.],\n",
              "        [0., 0., 0., 0., 0.]],\n",
              "\n",
              "       [[0., 0., 0., 0., 0.],\n",
              "        [0., 0., 0., 0., 0.],\n",
              "        [0., 0., 0., 0., 0.],\n",
              "        [0., 0., 0., 0., 0.]],\n",
              "\n",
              "       [[0., 0., 0., 0., 0.],\n",
              "        [0., 0., 0., 0., 0.],\n",
              "        [0., 0., 0., 0., 0.],\n",
              "        [0., 0., 0., 0., 0.]]], dtype=float32)>"
            ]
          },
          "metadata": {},
          "execution_count": 56
        }
      ]
    },
    {
      "cell_type": "code",
      "metadata": {
        "colab": {
          "base_uri": "https://localhost:8080/"
        },
        "id": "eLy36ikgHYii",
        "outputId": "3a3cc13e-0b7e-4e1b-c58d-a79be4b16cd4"
      },
      "source": [
        "rank_4_tensor.shape, rank_4_tensor.ndim, tf.size(rank_4_tensor)"
      ],
      "execution_count": 57,
      "outputs": [
        {
          "output_type": "execute_result",
          "data": {
            "text/plain": [
              "(TensorShape([2, 3, 4, 5]), 4, <tf.Tensor: shape=(), dtype=int32, numpy=120>)"
            ]
          },
          "metadata": {},
          "execution_count": 57
        }
      ]
    },
    {
      "cell_type": "code",
      "metadata": {
        "colab": {
          "base_uri": "https://localhost:8080/"
        },
        "id": "GqMrvuu7HkNy",
        "outputId": "15434b0c-28e2-4ec2-bbe1-af900a616126"
      },
      "source": [
        "print(\"data type:\", rank_4_tensor.dtype)\n",
        "print(\"number of dimensions:\", rank_4_tensor.ndim)\n",
        "print(\"elements along 0 axis:\", rank_4_tensor.shape[0])\n",
        "print(\"elements along last axis:\", rank_4_tensor.shape[-1])\n",
        "print(\"total number of elements in the tensor:\", tf.size(rank_4_tensor))"
      ],
      "execution_count": 58,
      "outputs": [
        {
          "output_type": "stream",
          "text": [
            "data type: <dtype: 'float32'>\n",
            "number of dimensions: 4\n",
            "elements along 0 axis: 2\n",
            "elements along last axis: 5\n",
            "total number of elements in the tensor: tf.Tensor(120, shape=(), dtype=int32)\n"
          ],
          "name": "stdout"
        }
      ]
    },
    {
      "cell_type": "code",
      "metadata": {
        "colab": {
          "base_uri": "https://localhost:8080/"
        },
        "id": "gJ4KIz1sIVsn",
        "outputId": "0898d1fb-ccbe-44d5-8f03-9257915e63ed"
      },
      "source": [
        "# Index Tensors\n",
        "# get first 2 tensor for each dimension\n",
        "rank_4_tensor[:2,:2,:2,:2]"
      ],
      "execution_count": 59,
      "outputs": [
        {
          "output_type": "execute_result",
          "data": {
            "text/plain": [
              "<tf.Tensor: shape=(2, 2, 2, 2), dtype=float32, numpy=\n",
              "array([[[[0., 0.],\n",
              "         [0., 0.]],\n",
              "\n",
              "        [[0., 0.],\n",
              "         [0., 0.]]],\n",
              "\n",
              "\n",
              "       [[[0., 0.],\n",
              "         [0., 0.]],\n",
              "\n",
              "        [[0., 0.],\n",
              "         [0., 0.]]]], dtype=float32)>"
            ]
          },
          "metadata": {},
          "execution_count": 59
        }
      ]
    },
    {
      "cell_type": "code",
      "metadata": {
        "colab": {
          "base_uri": "https://localhost:8080/"
        },
        "id": "V2BWK0FoJUin",
        "outputId": "6fe4acc8-121b-491d-a4ae-e4bd8d7764f8"
      },
      "source": [
        "# get the first element from each dimension from each index except for the final one\n",
        "rank_4_tensor[:1,:1,:1,:]"
      ],
      "execution_count": 60,
      "outputs": [
        {
          "output_type": "execute_result",
          "data": {
            "text/plain": [
              "<tf.Tensor: shape=(1, 1, 1, 5), dtype=float32, numpy=array([[[[0., 0., 0., 0., 0.]]]], dtype=float32)>"
            ]
          },
          "metadata": {},
          "execution_count": 60
        }
      ]
    },
    {
      "cell_type": "code",
      "metadata": {
        "colab": {
          "base_uri": "https://localhost:8080/"
        },
        "id": "vpkfRhXzMSmI",
        "outputId": "c6de5128-c222-451d-dc7d-4ad834b7e10c"
      },
      "source": [
        "# rank 2 tensor\n",
        "rank_2_tensor = tf.constant([[1,2],\n",
        "                             [3,4]])\n",
        "rank_2_tensor.ndim, rank_2_tensor.shape"
      ],
      "execution_count": 61,
      "outputs": [
        {
          "output_type": "execute_result",
          "data": {
            "text/plain": [
              "(2, TensorShape([2, 2]))"
            ]
          },
          "metadata": {},
          "execution_count": 61
        }
      ]
    },
    {
      "cell_type": "code",
      "metadata": {
        "colab": {
          "base_uri": "https://localhost:8080/"
        },
        "id": "kv2wgy5GNEZ1",
        "outputId": "8b72cb7e-0e5d-41ab-f173-b0035e1c9a33"
      },
      "source": [
        "# get the last item of eanch of rank 2 tensor\n",
        "rank_2_tensor[:,-1]"
      ],
      "execution_count": 62,
      "outputs": [
        {
          "output_type": "execute_result",
          "data": {
            "text/plain": [
              "<tf.Tensor: shape=(2,), dtype=int32, numpy=array([2, 4], dtype=int32)>"
            ]
          },
          "metadata": {},
          "execution_count": 62
        }
      ]
    },
    {
      "cell_type": "code",
      "metadata": {
        "colab": {
          "base_uri": "https://localhost:8080/"
        },
        "id": "qBEHlL4gNOmG",
        "outputId": "31290843-6905-4224-9b43-1f34dc01522d"
      },
      "source": [
        "# adding extra dimension to rank 2 tensor\n",
        "rank_3_tensor = rank_2_tensor[..., tf.newaxis] # [..., tf.newaxis] equal to [:, :, tf.newaxis]\n",
        "rank_3_tensor\n",
        "\n",
        "# alternative to tf.newaxis\n",
        "tf.expand_dims(rank_2_tensor,axis=0)"
      ],
      "execution_count": 63,
      "outputs": [
        {
          "output_type": "execute_result",
          "data": {
            "text/plain": [
              "<tf.Tensor: shape=(1, 2, 2), dtype=int32, numpy=\n",
              "array([[[1, 2],\n",
              "        [3, 4]]], dtype=int32)>"
            ]
          },
          "metadata": {},
          "execution_count": 63
        }
      ]
    },
    {
      "cell_type": "code",
      "metadata": {
        "colab": {
          "base_uri": "https://localhost:8080/"
        },
        "id": "H1m8fE2LN3nb",
        "outputId": "d6d1d9f8-1346-4dcd-d692-7e14c16222fd"
      },
      "source": [
        "tf.expand_dims(rank_2_tensor,axis=1)"
      ],
      "execution_count": 64,
      "outputs": [
        {
          "output_type": "execute_result",
          "data": {
            "text/plain": [
              "<tf.Tensor: shape=(2, 1, 2), dtype=int32, numpy=\n",
              "array([[[1, 2]],\n",
              "\n",
              "       [[3, 4]]], dtype=int32)>"
            ]
          },
          "metadata": {},
          "execution_count": 64
        }
      ]
    },
    {
      "cell_type": "code",
      "metadata": {
        "colab": {
          "base_uri": "https://localhost:8080/"
        },
        "id": "7OJOwPdDOrLV",
        "outputId": "bd050458-80e0-4d4c-d43b-19d3656a384f"
      },
      "source": [
        "# tensor operations\n",
        "# +, -, *, /\n",
        "\n",
        "tensor = tf.constant([[1,2],[3,4]])\n",
        "tensor + 1"
      ],
      "execution_count": 65,
      "outputs": [
        {
          "output_type": "execute_result",
          "data": {
            "text/plain": [
              "<tf.Tensor: shape=(2, 2), dtype=int32, numpy=\n",
              "array([[2, 3],\n",
              "       [4, 5]], dtype=int32)>"
            ]
          },
          "metadata": {},
          "execution_count": 65
        }
      ]
    },
    {
      "cell_type": "code",
      "metadata": {
        "colab": {
          "base_uri": "https://localhost:8080/"
        },
        "id": "uzS_NbpBO7K1",
        "outputId": "2664e75a-ae79-4d89-d7fb-e5d393f95778"
      },
      "source": [
        "# orginal tensor is unchanged\n",
        "tensor"
      ],
      "execution_count": 66,
      "outputs": [
        {
          "output_type": "execute_result",
          "data": {
            "text/plain": [
              "<tf.Tensor: shape=(2, 2), dtype=int32, numpy=\n",
              "array([[1, 2],\n",
              "       [3, 4]], dtype=int32)>"
            ]
          },
          "metadata": {},
          "execution_count": 66
        }
      ]
    },
    {
      "cell_type": "code",
      "metadata": {
        "colab": {
          "base_uri": "https://localhost:8080/"
        },
        "id": "x5GRrF2LPK1a",
        "outputId": "13787261-06a4-4970-aed1-ff5935fc0075"
      },
      "source": [
        "# build in\n",
        "tf.multiply(tensor,10) #use tf operation when use GPU"
      ],
      "execution_count": 67,
      "outputs": [
        {
          "output_type": "execute_result",
          "data": {
            "text/plain": [
              "<tf.Tensor: shape=(2, 2), dtype=int32, numpy=\n",
              "array([[10, 20],\n",
              "       [30, 40]], dtype=int32)>"
            ]
          },
          "metadata": {},
          "execution_count": 67
        }
      ]
    },
    {
      "cell_type": "code",
      "metadata": {
        "colab": {
          "base_uri": "https://localhost:8080/"
        },
        "id": "I53A555TPVyn",
        "outputId": "ac59526b-26f9-4ecb-9f4c-c937be4d4e0d"
      },
      "source": [
        "# matrix multiplication\n",
        "# inner dimension should match\n",
        "tensor_2 = tf.constant([[2],[3]])\n",
        "tf.matmul(tensor, tensor_2)"
      ],
      "execution_count": 68,
      "outputs": [
        {
          "output_type": "execute_result",
          "data": {
            "text/plain": [
              "<tf.Tensor: shape=(2, 1), dtype=int32, numpy=\n",
              "array([[ 8],\n",
              "       [18]], dtype=int32)>"
            ]
          },
          "metadata": {},
          "execution_count": 68
        }
      ]
    },
    {
      "cell_type": "code",
      "metadata": {
        "colab": {
          "base_uri": "https://localhost:8080/"
        },
        "id": "7Za4lrfXP0QT",
        "outputId": "4677b48f-f0fe-4e84-c84c-cd2cded81718"
      },
      "source": [
        "tensor * tensor_2"
      ],
      "execution_count": 69,
      "outputs": [
        {
          "output_type": "execute_result",
          "data": {
            "text/plain": [
              "<tf.Tensor: shape=(2, 2), dtype=int32, numpy=\n",
              "array([[ 2,  4],\n",
              "       [ 9, 12]], dtype=int32)>"
            ]
          },
          "metadata": {},
          "execution_count": 69
        }
      ]
    },
    {
      "cell_type": "code",
      "metadata": {
        "colab": {
          "base_uri": "https://localhost:8080/"
        },
        "id": "PC7Fx5K2QCv6",
        "outputId": "c6084560-987d-4a7d-afd9-683933c663c9"
      },
      "source": [
        "# @ is matix multiplication in Python\n",
        "tensor @ tensor_2"
      ],
      "execution_count": 70,
      "outputs": [
        {
          "output_type": "execute_result",
          "data": {
            "text/plain": [
              "<tf.Tensor: shape=(2, 1), dtype=int32, numpy=\n",
              "array([[ 8],\n",
              "       [18]], dtype=int32)>"
            ]
          },
          "metadata": {},
          "execution_count": 70
        }
      ]
    },
    {
      "cell_type": "code",
      "metadata": {
        "colab": {
          "base_uri": "https://localhost:8080/"
        },
        "id": "qcdF-LwRQLrc",
        "outputId": "fb5444fd-dd32-4061-9dd3-50717a4503c0"
      },
      "source": [
        "tensor = tf.constant([[1,2],\n",
        "                      [3,4],\n",
        "                      [5,6]])\n",
        "\n",
        "tensor2 = tf.constant([[7,8],\n",
        "                       [9,10],\n",
        "                       [11,12]])\n",
        "\n",
        "tf.matmul(tensor, tf.reshape(tensor2, shape=(2,3)))"
      ],
      "execution_count": 71,
      "outputs": [
        {
          "output_type": "execute_result",
          "data": {
            "text/plain": [
              "<tf.Tensor: shape=(3, 3), dtype=int32, numpy=\n",
              "array([[ 27,  30,  33],\n",
              "       [ 61,  68,  75],\n",
              "       [ 95, 106, 117]], dtype=int32)>"
            ]
          },
          "metadata": {},
          "execution_count": 71
        }
      ]
    },
    {
      "cell_type": "code",
      "metadata": {
        "colab": {
          "base_uri": "https://localhost:8080/"
        },
        "id": "c8Twnr3XRRh_",
        "outputId": "82430b37-32c3-4555-d35d-9e7b999b0d62"
      },
      "source": [
        "tf.matmul(tensor, tf.transpose(tensor2))"
      ],
      "execution_count": 72,
      "outputs": [
        {
          "output_type": "execute_result",
          "data": {
            "text/plain": [
              "<tf.Tensor: shape=(3, 3), dtype=int32, numpy=\n",
              "array([[ 23,  29,  35],\n",
              "       [ 53,  67,  81],\n",
              "       [ 83, 105, 127]], dtype=int32)>"
            ]
          },
          "metadata": {},
          "execution_count": 72
        }
      ]
    },
    {
      "cell_type": "code",
      "metadata": {
        "colab": {
          "base_uri": "https://localhost:8080/"
        },
        "id": "X0J-gb8MRqNn",
        "outputId": "5763ea71-a45f-4cc6-cb70-e01e1cddd19d"
      },
      "source": [
        "# dot product (matrix multiplication)\n",
        "tf.tensordot(tensor, tf.transpose(tensor2),axes=1)"
      ],
      "execution_count": 73,
      "outputs": [
        {
          "output_type": "execute_result",
          "data": {
            "text/plain": [
              "<tf.Tensor: shape=(3, 3), dtype=int32, numpy=\n",
              "array([[ 23,  29,  35],\n",
              "       [ 53,  67,  81],\n",
              "       [ 83, 105, 127]], dtype=int32)>"
            ]
          },
          "metadata": {},
          "execution_count": 73
        }
      ]
    },
    {
      "cell_type": "code",
      "metadata": {
        "colab": {
          "base_uri": "https://localhost:8080/"
        },
        "id": "MdMKVsZTSKXw",
        "outputId": "b02a1f77-6276-4508-9191-d28b533e0772"
      },
      "source": [
        "# rehape and transpose are different\n",
        "tf.transpose(tensor2)"
      ],
      "execution_count": 74,
      "outputs": [
        {
          "output_type": "execute_result",
          "data": {
            "text/plain": [
              "<tf.Tensor: shape=(2, 3), dtype=int32, numpy=\n",
              "array([[ 7,  9, 11],\n",
              "       [ 8, 10, 12]], dtype=int32)>"
            ]
          },
          "metadata": {},
          "execution_count": 74
        }
      ]
    },
    {
      "cell_type": "code",
      "metadata": {
        "colab": {
          "base_uri": "https://localhost:8080/"
        },
        "id": "J_yWnBBvSrxP",
        "outputId": "1ca356e1-4771-4985-9b62-22b637ff7f00"
      },
      "source": [
        "tf.reshape(tensor2,shape=(2,3))"
      ],
      "execution_count": 75,
      "outputs": [
        {
          "output_type": "execute_result",
          "data": {
            "text/plain": [
              "<tf.Tensor: shape=(2, 3), dtype=int32, numpy=\n",
              "array([[ 7,  8,  9],\n",
              "       [10, 11, 12]], dtype=int32)>"
            ]
          },
          "metadata": {},
          "execution_count": 75
        }
      ]
    },
    {
      "cell_type": "code",
      "metadata": {
        "colab": {
          "base_uri": "https://localhost:8080/"
        },
        "id": "Wc636Y-gS0ZZ",
        "outputId": "7616c31a-e313-49de-e34d-4aa1d3a04d32"
      },
      "source": [
        "# change data type\n",
        "tensor"
      ],
      "execution_count": 76,
      "outputs": [
        {
          "output_type": "execute_result",
          "data": {
            "text/plain": [
              "<tf.Tensor: shape=(3, 2), dtype=int32, numpy=\n",
              "array([[1, 2],\n",
              "       [3, 4],\n",
              "       [5, 6]], dtype=int32)>"
            ]
          },
          "metadata": {},
          "execution_count": 76
        }
      ]
    },
    {
      "cell_type": "code",
      "metadata": {
        "colab": {
          "base_uri": "https://localhost:8080/"
        },
        "id": "ww5LNHlMTWH5",
        "outputId": "c33bba7d-db9a-4048-8d4e-8b215fbfc8ff"
      },
      "source": [
        "# int32 to int16\n",
        "new_tensor = tf.cast(tensor, dtype=tf.int16)\n",
        "new_tensor"
      ],
      "execution_count": 77,
      "outputs": [
        {
          "output_type": "execute_result",
          "data": {
            "text/plain": [
              "<tf.Tensor: shape=(3, 2), dtype=int16, numpy=\n",
              "array([[1, 2],\n",
              "       [3, 4],\n",
              "       [5, 6]], dtype=int16)>"
            ]
          },
          "metadata": {},
          "execution_count": 77
        }
      ]
    },
    {
      "cell_type": "code",
      "metadata": {
        "colab": {
          "base_uri": "https://localhost:8080/"
        },
        "id": "cQNkZuedUBBS",
        "outputId": "340299bc-f337-49bb-e222-b1d4abe68058"
      },
      "source": [
        "# aggregating tensors\n",
        "\n",
        "# absolute value\n",
        "T = tf.constant([-5,-2])\n",
        "tf.abs(T)"
      ],
      "execution_count": 78,
      "outputs": [
        {
          "output_type": "execute_result",
          "data": {
            "text/plain": [
              "<tf.Tensor: shape=(2,), dtype=int32, numpy=array([5, 2], dtype=int32)>"
            ]
          },
          "metadata": {},
          "execution_count": 78
        }
      ]
    },
    {
      "cell_type": "code",
      "metadata": {
        "colab": {
          "base_uri": "https://localhost:8080/"
        },
        "id": "By1PUPuA18c2",
        "outputId": "3d125c8c-8d21-4b7c-ed17-d1f889e37869"
      },
      "source": [
        "# min, max, sum, mean\n",
        "random_tensor = tf.constant(np.random.randint(0,100,size=50))\n",
        "random_tensor"
      ],
      "execution_count": 81,
      "outputs": [
        {
          "output_type": "execute_result",
          "data": {
            "text/plain": [
              "<tf.Tensor: shape=(50,), dtype=int64, numpy=\n",
              "array([98, 29, 75, 86, 14, 51, 22, 53, 18, 33, 14, 27, 64, 20, 15, 88, 89,\n",
              "       80, 99, 29, 61, 48, 60, 42, 40,  4, 59, 86, 15, 94, 89, 88,  8, 59,\n",
              "       64, 50, 22, 93, 94, 66, 46, 77, 82, 52, 58, 63, 42, 53, 83, 84])>"
            ]
          },
          "metadata": {},
          "execution_count": 81
        }
      ]
    },
    {
      "cell_type": "code",
      "metadata": {
        "colab": {
          "base_uri": "https://localhost:8080/"
        },
        "id": "Exf-uRPF2Jn0",
        "outputId": "9a5b4077-529c-43ac-e7b3-71a525f876ba"
      },
      "source": [
        "# Find the minimum\n",
        "tf.reduce_min(random_tensor)"
      ],
      "execution_count": 82,
      "outputs": [
        {
          "output_type": "execute_result",
          "data": {
            "text/plain": [
              "<tf.Tensor: shape=(), dtype=int64, numpy=4>"
            ]
          },
          "metadata": {},
          "execution_count": 82
        }
      ]
    },
    {
      "cell_type": "code",
      "metadata": {
        "colab": {
          "base_uri": "https://localhost:8080/"
        },
        "id": "pIlnTDgx2yRD",
        "outputId": "f15d87ab-6141-4055-cce1-ee8061c8aa6b"
      },
      "source": [
        "tf.reduce_mean(random_tensor)"
      ],
      "execution_count": 83,
      "outputs": [
        {
          "output_type": "execute_result",
          "data": {
            "text/plain": [
              "<tf.Tensor: shape=(), dtype=int64, numpy=55>"
            ]
          },
          "metadata": {},
          "execution_count": 83
        }
      ]
    },
    {
      "cell_type": "code",
      "metadata": {
        "colab": {
          "base_uri": "https://localhost:8080/"
        },
        "id": "5LwSJc-p210j",
        "outputId": "57648320-0747-4b28-a047-7ea27e6ad84d"
      },
      "source": [
        "tf.reduce_sum(random_tensor)"
      ],
      "execution_count": 84,
      "outputs": [
        {
          "output_type": "execute_result",
          "data": {
            "text/plain": [
              "<tf.Tensor: shape=(), dtype=int64, numpy=2786>"
            ]
          },
          "metadata": {},
          "execution_count": 84
        }
      ]
    },
    {
      "cell_type": "code",
      "metadata": {
        "colab": {
          "base_uri": "https://localhost:8080/"
        },
        "id": "aDd00KtG24A-",
        "outputId": "75aa81d8-6ba1-4921-adca-abbc10d94d75"
      },
      "source": [
        "import tensorflow_probability as tfp\n",
        "tfp.stats.stddev(tf.cast(random_tensor,dtype=tf.float32))"
      ],
      "execution_count": 87,
      "outputs": [
        {
          "output_type": "execute_result",
          "data": {
            "text/plain": [
              "<tf.Tensor: shape=(), dtype=float32, numpy=27.743135>"
            ]
          },
          "metadata": {},
          "execution_count": 87
        }
      ]
    },
    {
      "cell_type": "code",
      "metadata": {
        "colab": {
          "base_uri": "https://localhost:8080/"
        },
        "id": "5paWvhd93YkB",
        "outputId": "9490b169-da66-4dbb-d198-a8d4151b9e60"
      },
      "source": [
        "tf.math.reduce_std(tf.cast(random_tensor,dtype=tf.float32))"
      ],
      "execution_count": 89,
      "outputs": [
        {
          "output_type": "execute_result",
          "data": {
            "text/plain": [
              "<tf.Tensor: shape=(), dtype=float32, numpy=27.743135>"
            ]
          },
          "metadata": {},
          "execution_count": 89
        }
      ]
    },
    {
      "cell_type": "code",
      "metadata": {
        "colab": {
          "base_uri": "https://localhost:8080/"
        },
        "id": "g-q6cOua36uu",
        "outputId": "15cf6055-5c76-4a4a-85f3-e4a84a891acd"
      },
      "source": [
        "# find positional min, max\n",
        "F = tf.random.uniform(shape=[50],seed=5)\n",
        "F"
      ],
      "execution_count": 92,
      "outputs": [
        {
          "output_type": "execute_result",
          "data": {
            "text/plain": [
              "<tf.Tensor: shape=(50,), dtype=float32, numpy=\n",
              "array([0.22574675, 0.19052148, 0.4683671 , 0.20076501, 0.4350201 ,\n",
              "       0.76375616, 0.40015733, 0.5438293 , 0.0957675 , 0.43651903,\n",
              "       0.89804673, 0.04670155, 0.36940324, 0.03501081, 0.48912692,\n",
              "       0.10751057, 0.26041257, 0.90923774, 0.17332578, 0.35813332,\n",
              "       0.85058165, 0.43108344, 0.24167705, 0.04935944, 0.33212602,\n",
              "       0.19874728, 0.4658394 , 0.44857216, 0.9579562 , 0.9987308 ,\n",
              "       0.7118342 , 0.84678376, 0.6411067 , 0.29668045, 0.85039437,\n",
              "       0.95672166, 0.28903425, 0.06219065, 0.5733595 , 0.09435093,\n",
              "       0.5614115 , 0.7421849 , 0.0925504 , 0.56545377, 0.695117  ,\n",
              "       0.0728792 , 0.04827309, 0.38940454, 0.47998583, 0.92448413],\n",
              "      dtype=float32)>"
            ]
          },
          "metadata": {},
          "execution_count": 92
        }
      ]
    },
    {
      "cell_type": "code",
      "metadata": {
        "colab": {
          "base_uri": "https://localhost:8080/"
        },
        "id": "CUmhzTCQ4Y_B",
        "outputId": "4b0d9212-3b22-4717-cdf0-73ff94104faa"
      },
      "source": [
        "tf.argmax(F)"
      ],
      "execution_count": 93,
      "outputs": [
        {
          "output_type": "execute_result",
          "data": {
            "text/plain": [
              "<tf.Tensor: shape=(), dtype=int64, numpy=29>"
            ]
          },
          "metadata": {},
          "execution_count": 93
        }
      ]
    },
    {
      "cell_type": "code",
      "metadata": {
        "colab": {
          "base_uri": "https://localhost:8080/"
        },
        "id": "oe19_FJf4gFR",
        "outputId": "861566b0-2a86-468b-e337-86e7a06874d9"
      },
      "source": [
        "F[29]"
      ],
      "execution_count": 94,
      "outputs": [
        {
          "output_type": "execute_result",
          "data": {
            "text/plain": [
              "<tf.Tensor: shape=(), dtype=float32, numpy=0.9987308>"
            ]
          },
          "metadata": {},
          "execution_count": 94
        }
      ]
    },
    {
      "cell_type": "code",
      "metadata": {
        "colab": {
          "base_uri": "https://localhost:8080/"
        },
        "id": "nljXq7_94lPG",
        "outputId": "f2cfc451-151e-4315-c3af-471534ca4f53"
      },
      "source": [
        "tf.reduce_max(F)"
      ],
      "execution_count": 95,
      "outputs": [
        {
          "output_type": "execute_result",
          "data": {
            "text/plain": [
              "<tf.Tensor: shape=(), dtype=float32, numpy=0.9987308>"
            ]
          },
          "metadata": {},
          "execution_count": 95
        }
      ]
    },
    {
      "cell_type": "code",
      "metadata": {
        "colab": {
          "base_uri": "https://localhost:8080/"
        },
        "id": "WkwkAiP64oWf",
        "outputId": "89671674-85cd-4b20-e23e-995b75267def"
      },
      "source": [
        "# squeeze a tensor\n",
        "G = tf.constant(tf.random.uniform(shape=[50]),shape=(1,1,1,50))\n",
        "G"
      ],
      "execution_count": 97,
      "outputs": [
        {
          "output_type": "execute_result",
          "data": {
            "text/plain": [
              "<tf.Tensor: shape=(1, 1, 1, 50), dtype=float32, numpy=\n",
              "array([[[[0.7017075 , 0.04336786, 0.5604572 , 0.12203383, 0.2799585 ,\n",
              "          0.0750066 , 0.402349  , 0.9894742 , 0.59372437, 0.7514732 ,\n",
              "          0.05478573, 0.07989085, 0.7620882 , 0.79115105, 0.30476165,\n",
              "          0.76132965, 0.5997071 , 0.5431193 , 0.88584435, 0.48674047,\n",
              "          0.01316273, 0.58793426, 0.327574  , 0.23840785, 0.9266187 ,\n",
              "          0.86423695, 0.1886512 , 0.6405152 , 0.21826982, 0.904871  ,\n",
              "          0.9731147 , 0.24966395, 0.33211505, 0.37862694, 0.8401406 ,\n",
              "          0.9709687 , 0.86095977, 0.6963903 , 0.3715824 , 0.6956036 ,\n",
              "          0.9116014 , 0.32936776, 0.01622629, 0.9951675 , 0.8455043 ,\n",
              "          0.4008628 , 0.917194  , 0.11467779, 0.8135506 , 0.08010972]]]],\n",
              "      dtype=float32)>"
            ]
          },
          "metadata": {},
          "execution_count": 97
        }
      ]
    },
    {
      "cell_type": "code",
      "metadata": {
        "colab": {
          "base_uri": "https://localhost:8080/"
        },
        "id": "6XzN3Lyj5NOY",
        "outputId": "8a28745e-c72d-47ac-af62-814bef429745"
      },
      "source": [
        "tf.squeeze(G)"
      ],
      "execution_count": 98,
      "outputs": [
        {
          "output_type": "execute_result",
          "data": {
            "text/plain": [
              "<tf.Tensor: shape=(50,), dtype=float32, numpy=\n",
              "array([0.7017075 , 0.04336786, 0.5604572 , 0.12203383, 0.2799585 ,\n",
              "       0.0750066 , 0.402349  , 0.9894742 , 0.59372437, 0.7514732 ,\n",
              "       0.05478573, 0.07989085, 0.7620882 , 0.79115105, 0.30476165,\n",
              "       0.76132965, 0.5997071 , 0.5431193 , 0.88584435, 0.48674047,\n",
              "       0.01316273, 0.58793426, 0.327574  , 0.23840785, 0.9266187 ,\n",
              "       0.86423695, 0.1886512 , 0.6405152 , 0.21826982, 0.904871  ,\n",
              "       0.9731147 , 0.24966395, 0.33211505, 0.37862694, 0.8401406 ,\n",
              "       0.9709687 , 0.86095977, 0.6963903 , 0.3715824 , 0.6956036 ,\n",
              "       0.9116014 , 0.32936776, 0.01622629, 0.9951675 , 0.8455043 ,\n",
              "       0.4008628 , 0.917194  , 0.11467779, 0.8135506 , 0.08010972],\n",
              "      dtype=float32)>"
            ]
          },
          "metadata": {},
          "execution_count": 98
        }
      ]
    },
    {
      "cell_type": "code",
      "metadata": {
        "id": "kUCO7zg_5TsU"
      },
      "source": [
        ""
      ],
      "execution_count": null,
      "outputs": []
    }
  ]
}